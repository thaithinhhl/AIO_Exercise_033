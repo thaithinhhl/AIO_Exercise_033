{
 "cells": [
  {
   "cell_type": "code",
   "execution_count": 3,
   "metadata": {},
   "outputs": [
    {
     "name": "stdout",
     "output_type": "stream",
     "text": [
      "gini_value: 0.48\n"
     ]
    }
   ],
   "source": [
    "# cau 2\n",
    "\n",
    "# Dữ liệu từ bảng\n",
    "\n",
    "def gini_index(labels):\n",
    "    total_sample = len(labels)\n",
    "    unique_samples = set(labels)\n",
    "    gini = 1.0\n",
    "\n",
    "    for label in unique_samples:\n",
    "        proportion  = labels.count(label) / total_sample\n",
    "        gini -= proportion ** 2 \n",
    "    return gini \n",
    "\n",
    "data = [\n",
    "    {\"Age\": 23, \"Likes English\": 0, \"Likes AI\": 0, \"Raise Salary\": 0},\n",
    "    {\"Age\": 25, \"Likes English\": 1, \"Likes AI\": 1, \"Raise Salary\": 0},\n",
    "    {\"Age\": 27, \"Likes English\": 1, \"Likes AI\": 0, \"Raise Salary\": 1},\n",
    "    {\"Age\": 29, \"Likes English\": 0, \"Likes AI\": 1, \"Raise Salary\": 1},\n",
    "    {\"Age\": 29, \"Likes English\": 0, \"Likes AI\": 0, \"Raise Salary\": 0}\n",
    "]\n",
    "\n",
    "\n",
    "Raise_Salary = [row['Raise Salary'] for row in data]\n",
    "\n",
    "gini_value = gini_index(Raise_Salary)\n",
    "print(f'gini_value: {gini_value}')"
   ]
  },
  {
   "cell_type": "code",
   "execution_count": 8,
   "metadata": {},
   "outputs": [
    {
     "name": "stdout",
     "output_type": "stream",
     "text": [
      "gini_total: 0.4666666666666667\n"
     ]
    }
   ],
   "source": [
    "# cau 3 \n",
    "def gini_index(labels):\n",
    "    total_sample = len(labels)\n",
    "    unique_samples = set(labels)\n",
    "    gini = 1.0\n",
    "\n",
    "    for label in unique_samples:\n",
    "        proportion  = labels.count(label) / total_sample\n",
    "        gini -= proportion ** 2 \n",
    "    return gini \n",
    "\n",
    "data = [\n",
    "    {\"Age\": 23, \"Likes English\": 0, \"Likes AI\": 0, \"Raise Salary\": 0},\n",
    "    {\"Age\": 25, \"Likes English\": 1, \"Likes AI\": 1, \"Raise Salary\": 0},\n",
    "    {\"Age\": 27, \"Likes English\": 1, \"Likes AI\": 0, \"Raise Salary\": 1},\n",
    "    {\"Age\": 29, \"Likes English\": 0, \"Likes AI\": 1, \"Raise Salary\": 1},\n",
    "    {\"Age\": 29, \"Likes English\": 0, \"Likes AI\": 0, \"Raise Salary\": 0}\n",
    "]\n",
    "\n",
    "gini_1 = [row['Raise Salary'] for row in data if row['Likes English'] == 0]\n",
    "gini_2 = [row['Raise Salary'] for row in data if row['Likes English'] == 1]\n",
    "\n",
    "# tinh ti so gini cho moi nhom\n",
    "gini_value_1 = gini_index(gini_1)\n",
    "gini_value_2 = gini_index(gini_2)\n",
    "\n",
    "# tong mau \n",
    "total_samples = len(data)\n",
    "\n",
    "\n",
    "# tinh chi so gini tong hop\n",
    "\n",
    "gini_total = ( len(gini_1) / total_samples ) * gini_value_1  + ( len( gini_2) / total_samples ) * gini_value_2\n",
    "\n",
    "print(f'gini_total: {gini_total}')\n"
   ]
  },
  {
   "cell_type": "code",
   "execution_count": 12,
   "metadata": {},
   "outputs": [
    {
     "name": "stdout",
     "output_type": "stream",
     "text": [
      "gini_age_total: 0.26666666666666666\n"
     ]
    }
   ],
   "source": [
    " # cau 4\n",
    "def gini_index(labels):\n",
    "    total_sample = len(labels)\n",
    "    unique_samples = set(labels)\n",
    "    gini = 1.0\n",
    "\n",
    "    for label in unique_samples:\n",
    "        proportion  = labels.count(label) / total_sample\n",
    "        gini -= proportion ** 2 \n",
    "    return gini \n",
    "\n",
    "data = [\n",
    "    {\"Age\": 23, \"Likes English\": 0, \"Likes AI\": 0, \"Raise Salary\": 0},\n",
    "    {\"Age\": 25, \"Likes English\": 1, \"Likes AI\": 1, \"Raise Salary\": 0},\n",
    "    {\"Age\": 27, \"Likes English\": 1, \"Likes AI\": 0, \"Raise Salary\": 1},\n",
    "    {\"Age\": 29, \"Likes English\": 0, \"Likes AI\": 1, \"Raise Salary\": 1},\n",
    "    {\"Age\": 29, \"Likes English\": 0, \"Likes AI\": 0, \"Raise Salary\": 0}\n",
    "]\n",
    "\n",
    "gini_age_1 = [row['Raise Salary'] for row in data if row['Age'] <= 26]\n",
    "gini_age_2 = [row['Raise Salary'] for row in data if row['Age'] > 26]\n",
    "\n",
    "gini_value_age_1 = gini_index(gini_age_1)\n",
    "gini_value_age_2 = gini_index(gini_age_2)\n",
    "\n",
    "gini_age_total  = ( len(gini_age_1) / total_samples ) * gini_value_age_1 + ( len (gini_age_2) / total_samples ) * gini_value_age_2 \n",
    "\n",
    "print(f'gini_age_total: {gini_age_total}')"
   ]
  },
  {
   "cell_type": "code",
   "execution_count": 13,
   "metadata": {},
   "outputs": [
    {
     "name": "stdout",
     "output_type": "stream",
     "text": [
      "Entropy(D) = 0.97\n"
     ]
    }
   ],
   "source": [
    "# cau 5\n",
    "import math\n",
    "def entropy(labels):\n",
    "    total_sample = len(labels)\n",
    "    unique_samples = set(labels)\n",
    "    entropy_value = 0.0\n",
    "\n",
    "    for label in unique_samples:\n",
    "        proportion  = labels.count(label) / total_sample\n",
    "        entropy_value -= proportion * math.log2(proportion) \n",
    "    return entropy_value\n",
    "\n",
    "data = [\n",
    "    {\"Age\": 23, \"Likes English\": 0, \"Likes AI\": 0, \"Raise Salary\": 0},\n",
    "    {\"Age\": 25, \"Likes English\": 1, \"Likes AI\": 1, \"Raise Salary\": 0},\n",
    "    {\"Age\": 27, \"Likes English\": 1, \"Likes AI\": 0, \"Raise Salary\": 1},\n",
    "    {\"Age\": 29, \"Likes English\": 0, \"Likes AI\": 1, \"Raise Salary\": 1},\n",
    "    {\"Age\": 29, \"Likes English\": 0, \"Likes AI\": 0, \"Raise Salary\": 0}\n",
    "]\n",
    "\n",
    "# Lấy dữ liệu từ cột \"Raise Salary\"\n",
    "raise_salary = [row['Raise Salary'] for row in data]\n",
    "\n",
    "# Tính entropy\n",
    "entropy_value = entropy(raise_salary)\n",
    "\n",
    "# In kết quả\n",
    "print(f'Entropy(D) = {entropy_value:.2f}')\n"
   ]
  },
  {
   "cell_type": "code",
   "execution_count": 14,
   "metadata": {},
   "outputs": [
    {
     "name": "stdout",
     "output_type": "stream",
     "text": [
      "Information Gain (Likes English): 0.0200\n"
     ]
    }
   ],
   "source": [
    "# cau 6\n",
    "import math\n",
    "\n",
    "# Hàm tính entropy\n",
    "def entropy(labels):\n",
    "    total_samples = len(labels)\n",
    "    unique_labels = set(labels)\n",
    "    entropy_value = 0.0\n",
    "\n",
    "    for label in unique_labels:\n",
    "        proportion = labels.count(label) / total_samples\n",
    "        entropy_value -= proportion * math.log2(proportion)\n",
    "    \n",
    "    return entropy_value\n",
    "\n",
    "# Dữ liệu từ bảng\n",
    "data = [\n",
    "    {\"Age\": 23, \"Likes English\": 0, \"Likes AI\": 0, \"Raise Salary\": 0},\n",
    "    {\"Age\": 25, \"Likes English\": 1, \"Likes AI\": 1, \"Raise Salary\": 0},\n",
    "    {\"Age\": 27, \"Likes English\": 1, \"Likes AI\": 0, \"Raise Salary\": 1},\n",
    "    {\"Age\": 29, \"Likes English\": 0, \"Likes AI\": 1, \"Raise Salary\": 1},\n",
    "    {\"Age\": 29, \"Likes English\": 0, \"Likes AI\": 0, \"Raise Salary\": 0}\n",
    "]\n",
    "\n",
    "# Lấy dữ liệu từ cột \"Raise Salary\"\n",
    "raise_salary = [row['Raise Salary'] for row in data]\n",
    "\n",
    "# Tính entropy của toàn bộ tập dữ liệu\n",
    "entropy_total = entropy(raise_salary)\n",
    "\n",
    "# Phân chia theo \"Likes English\"\n",
    "group_0 = [row['Raise Salary'] for row in data if row['Likes English'] == 0]\n",
    "group_1 = [row['Raise Salary'] for row in data if row['Likes English'] == 1]\n",
    "\n",
    "# Tính entropy cho từng nhóm\n",
    "entropy_group_0 = entropy(group_0)\n",
    "entropy_group_1 = entropy(group_1)\n",
    "\n",
    "# Tính tổng số mẫu\n",
    "total_samples = len(data)\n",
    "\n",
    "# Tính Information Gain\n",
    "gain_likes_english = entropy_total - (len(group_0) / total_samples) * entropy_group_0 - (len(group_1) / total_samples) * entropy_group_1\n",
    "\n",
    "# In kết quả\n",
    "print(f'Information Gain (Likes English): {gain_likes_english:.4f}')\n"
   ]
  },
  {
   "cell_type": "code",
   "execution_count": null,
   "metadata": {},
   "outputs": [],
   "source": []
  }
 ],
 "metadata": {
  "kernelspec": {
   "display_name": "base",
   "language": "python",
   "name": "python3"
  },
  "language_info": {
   "codemirror_mode": {
    "name": "ipython",
    "version": 3
   },
   "file_extension": ".py",
   "mimetype": "text/x-python",
   "name": "python",
   "nbconvert_exporter": "python",
   "pygments_lexer": "ipython3",
   "version": "3.11.7"
  }
 },
 "nbformat": 4,
 "nbformat_minor": 2
}
