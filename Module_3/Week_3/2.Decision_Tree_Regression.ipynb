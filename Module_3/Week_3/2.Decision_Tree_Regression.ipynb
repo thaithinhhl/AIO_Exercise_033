{
 "cells": [
  {
   "cell_type": "code",
   "execution_count": 3,
   "metadata": {},
   "outputs": [
    {
     "name": "stdout",
     "output_type": "stream",
     "text": [
      "SSE của Likes AI = 0: 20000.0\n",
      "SSE của Likes AI = 1: 5000.0\n",
      "Tổng SSE: 25000.0\n"
     ]
    }
   ],
   "source": [
    "# Hàm tính SSE\n",
    "def sse(group):\n",
    "    if len(group) == 0:\n",
    "        return 0\n",
    "    mean_value = sum(group) / len(group)\n",
    "    return sum((x - mean_value) ** 2 for x in group)\n",
    "\n",
    "# Dữ liệu từ bảng\n",
    "data = [\n",
    "    {\"Age\": 23, \"Likes English\": 0, \"Likes AI\": 0, \"Salary\": 200},\n",
    "    {\"Age\": 25, \"Likes English\": 1, \"Likes AI\": 1, \"Salary\": 400},\n",
    "    {\"Age\": 27, \"Likes English\": 1, \"Likes AI\": 0, \"Salary\": 300},\n",
    "    {\"Age\": 29, \"Likes English\": 0, \"Likes AI\": 1, \"Salary\": 500},\n",
    "    {\"Age\": 29, \"Likes English\": 0, \"Likes AI\": 0, \"Salary\": 400}\n",
    "]\n",
    "\n",
    "# Phân chia dữ liệu theo \"Likes AI\"\n",
    "group_0 = [row['Salary'] for row in data if row['Likes AI'] == 0]  # Likes AI = 0\n",
    "group_1 = [row['Salary'] for row in data if row['Likes AI'] == 1]  # Likes AI = 1\n",
    "\n",
    "# Tính SSE cho từng nhóm\n",
    "sse_group_0 = sse(group_0)\n",
    "sse_group_1 = sse(group_1)\n",
    "\n",
    "# Tính tổng SSE\n",
    "sse_total = sse_group_0 + sse_group_1\n",
    "\n",
    "# In kết quả\n",
    "print(f'SSE của Likes AI = 0: {sse_group_0}')\n",
    "print(f'SSE của Likes AI = 1: {sse_group_1}')\n",
    "print(f'Tổng SSE: {sse_total}')\n"
   ]
  }
 ],
 "metadata": {
  "kernelspec": {
   "display_name": "base",
   "language": "python",
   "name": "python3"
  },
  "language_info": {
   "codemirror_mode": {
    "name": "ipython",
    "version": 3
   },
   "file_extension": ".py",
   "mimetype": "text/x-python",
   "name": "python",
   "nbconvert_exporter": "python",
   "pygments_lexer": "ipython3",
   "version": "3.11.7"
  }
 },
 "nbformat": 4,
 "nbformat_minor": 2
}
