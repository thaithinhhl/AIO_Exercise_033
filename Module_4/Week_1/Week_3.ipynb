{
 "cells": [
  {
   "cell_type": "code",
   "execution_count": 1,
   "metadata": {},
   "outputs": [
    {
     "name": "stdout",
     "output_type": "stream",
     "text": [
      "[[  1.  230.1  37.8  69.2]\n",
      " [  1.   44.5  39.3  45.1]\n",
      " [  1.   17.2  45.9  69.3]\n",
      " [  1.  151.5  41.3  58.5]\n",
      " [  1.  180.8  10.8  58.4]\n",
      " [  1.    8.7  48.9  75. ]\n",
      " [  1.   57.5  32.8  23.5]\n",
      " [  1.  120.2  19.6  11.6]\n",
      " [  1.    8.6   2.1   1. ]\n",
      " [  1.  199.8   2.6  21.2]\n",
      " [  1.   66.1   5.8  24.2]\n",
      " [  1.  214.7  24.    4. ]\n",
      " [  1.   23.8  35.1  65.9]\n",
      " [  1.   97.5   7.6   7.2]\n",
      " [  1.  204.1  32.9  46. ]\n",
      " [  1.  195.4  47.7  52.9]\n",
      " [  1.   67.8  36.6 114. ]\n",
      " [  1.  281.4  39.6  55.8]\n",
      " [  1.   69.2  20.5  18.3]\n",
      " [  1.  147.3  23.9  19.1]\n",
      " [  1.  218.4  27.7  53.4]\n",
      " [  1.  237.4   5.1  23.5]\n",
      " [  1.   13.2  15.9  49.6]\n",
      " [  1.  228.3  16.9  26.2]\n",
      " [  1.   62.3  12.6  18.3]\n",
      " [  1.  262.9   3.5  19.5]\n",
      " [  1.  142.9  29.3  12.6]\n",
      " [  1.  240.1  16.7  22.9]\n",
      " [  1.  248.8  27.1  22.9]\n",
      " [  1.   70.6  16.   40.8]\n",
      " [  1.  292.9  28.3  43.2]\n",
      " [  1.  112.9  17.4  38.6]\n",
      " [  1.   97.2   1.5  30. ]\n",
      " [  1.  265.6  20.    0.3]\n",
      " [  1.   95.7   1.4   7.4]\n",
      " [  1.  290.7   4.1   8.5]\n",
      " [  1.  266.9  43.8   5. ]\n",
      " [  1.   74.7  49.4  45.7]\n",
      " [  1.   43.1  26.7  35.1]\n",
      " [  1.  228.   37.7  32. ]\n",
      " [  1.  202.5  22.3  31.6]\n",
      " [  1.  177.   33.4  38.7]\n",
      " [  1.  293.6  27.7   1.8]\n",
      " [  1.  206.9   8.4  26.4]\n",
      " [  1.   25.1  25.7  43.3]\n",
      " [  1.  175.1  22.5  31.5]\n",
      " [  1.   89.7   9.9  35.7]\n",
      " [  1.  239.9  41.5  18.5]\n",
      " [  1.  227.2  15.8  49.9]\n",
      " [  1.   66.9  11.7  36.8]\n",
      " [  1.  199.8   3.1  34.6]\n",
      " [  1.  100.4   9.6   3.6]\n",
      " [  1.  216.4  41.7  39.6]\n",
      " [  1.  182.6  46.2  58.7]\n",
      " [  1.  262.7  28.8  15.9]\n",
      " [  1.  198.9  49.4  60. ]\n",
      " [  1.    7.3  28.1  41.4]\n",
      " [  1.  136.2  19.2  16.6]\n",
      " [  1.  210.8  49.6  37.7]\n",
      " [  1.  210.7  29.5   9.3]\n",
      " [  1.   53.5   2.   21.4]\n",
      " [  1.  261.3  42.7  54.7]\n",
      " [  1.  239.3  15.5  27.3]\n",
      " [  1.  102.7  29.6   8.4]\n",
      " [  1.  131.1  42.8  28.9]\n",
      " [  1.   69.    9.3   0.9]\n",
      " [  1.   31.5  24.6   2.2]\n",
      " [  1.  139.3  14.5  10.2]\n",
      " [  1.  237.4  27.5  11. ]\n",
      " [  1.  216.8  43.9  27.2]\n",
      " [  1.  199.1  30.6  38.7]\n",
      " [  1.  109.8  14.3  31.7]\n",
      " [  1.   26.8  33.   19.3]\n",
      " [  1.  129.4   5.7  31.3]\n",
      " [  1.  213.4  24.6  13.1]\n",
      " [  1.   16.9  43.7  89.4]\n",
      " [  1.   27.5   1.6  20.7]\n",
      " [  1.  120.5  28.5  14.2]\n",
      " [  1.    5.4  29.9   9.4]\n",
      " [  1.  116.    7.7  23.1]\n",
      " [  1.   76.4  26.7  22.3]\n",
      " [  1.  239.8   4.1  36.9]\n",
      " [  1.   75.3  20.3  32.5]\n",
      " [  1.   68.4  44.5  35.6]\n",
      " [  1.  213.5  43.   33.8]\n",
      " [  1.  193.2  18.4  65.7]\n",
      " [  1.   76.3  27.5  16. ]\n",
      " [  1.  110.7  40.6  63.2]\n",
      " [  1.   88.3  25.5  73.4]\n",
      " [  1.  109.8  47.8  51.4]\n",
      " [  1.  134.3   4.9   9.3]\n",
      " [  1.   28.6   1.5  33. ]\n",
      " [  1.  217.7  33.5  59. ]\n",
      " [  1.  250.9  36.5  72.3]\n",
      " [  1.  107.4  14.   10.9]\n",
      " [  1.  163.3  31.6  52.9]\n",
      " [  1.  197.6   3.5   5.9]\n",
      " [  1.  184.9  21.   22. ]\n",
      " [  1.  289.7  42.3  51.2]\n",
      " [  1.  135.2  41.7  45.9]\n",
      " [  1.  222.4   4.3  49.8]\n",
      " [  1.  296.4  36.3 100.9]\n",
      " [  1.  280.2  10.1  21.4]\n",
      " [  1.  187.9  17.2  17.9]\n",
      " [  1.  238.2  34.3   5.3]\n",
      " [  1.  137.9  46.4  59. ]\n",
      " [  1.   25.   11.   29.7]\n",
      " [  1.   90.4   0.3  23.2]\n",
      " [  1.   13.1   0.4  25.6]\n",
      " [  1.  255.4  26.9   5.5]\n",
      " [  1.  225.8   8.2  56.5]\n",
      " [  1.  241.7  38.   23.2]\n",
      " [  1.  175.7  15.4   2.4]\n",
      " [  1.  209.6  20.6  10.7]\n",
      " [  1.   78.2  46.8  34.5]\n",
      " [  1.   75.1  35.   52.7]\n",
      " [  1.  139.2  14.3  25.6]\n",
      " [  1.   76.4   0.8  14.8]\n",
      " [  1.  125.7  36.9  79.2]\n",
      " [  1.   19.4  16.   22.3]\n",
      " [  1.  141.3  26.8  46.2]\n",
      " [  1.   18.8  21.7  50.4]\n",
      " [  1.  224.    2.4  15.6]\n",
      " [  1.  123.1  34.6  12.4]\n",
      " [  1.  229.5  32.3  74.2]\n",
      " [  1.   87.2  11.8  25.9]\n",
      " [  1.    7.8  38.9  50.6]\n",
      " [  1.   80.2   0.    9.2]\n",
      " [  1.  220.3  49.    3.2]\n",
      " [  1.   59.6  12.   43.1]\n",
      " [  1.    0.7  39.6   8.7]\n",
      " [  1.  265.2   2.9  43. ]\n",
      " [  1.    8.4  27.2   2.1]\n",
      " [  1.  219.8  33.5  45.1]\n",
      " [  1.   36.9  38.6  65.6]\n",
      " [  1.   48.3  47.    8.5]\n",
      " [  1.   25.6  39.    9.3]\n",
      " [  1.  273.7  28.9  59.7]\n",
      " [  1.   43.   25.9  20.5]\n",
      " [  1.  184.9  43.9   1.7]\n",
      " [  1.   73.4  17.   12.9]\n",
      " [  1.  193.7  35.4  75.6]\n",
      " [  1.  220.5  33.2  37.9]\n",
      " [  1.  104.6   5.7  34.4]\n",
      " [  1.   96.2  14.8  38.9]\n",
      " [  1.  140.3   1.9   9. ]\n",
      " [  1.  240.1   7.3   8.7]\n",
      " [  1.  243.2  49.   44.3]\n",
      " [  1.   38.   40.3  11.9]\n",
      " [  1.   44.7  25.8  20.6]\n",
      " [  1.  280.7  13.9  37. ]\n",
      " [  1.  121.    8.4  48.7]\n",
      " [  1.  197.6  23.3  14.2]\n",
      " [  1.  171.3  39.7  37.7]\n",
      " [  1.  187.8  21.1   9.5]\n",
      " [  1.    4.1  11.6   5.7]\n",
      " [  1.   93.9  43.5  50.5]\n",
      " [  1.  149.8   1.3  24.3]\n",
      " [  1.   11.7  36.9  45.2]\n",
      " [  1.  131.7  18.4  34.6]\n",
      " [  1.  172.5  18.1  30.7]\n",
      " [  1.   85.7  35.8  49.3]\n",
      " [  1.  188.4  18.1  25.6]\n",
      " [  1.  163.5  36.8   7.4]\n",
      " [  1.  117.2  14.7   5.4]\n",
      " [  1.  234.5   3.4  84.8]\n",
      " [  1.   17.9  37.6  21.6]\n",
      " [  1.  206.8   5.2  19.4]\n",
      " [  1.  215.4  23.6  57.6]\n",
      " [  1.  284.3  10.6   6.4]\n",
      " [  1.   50.   11.6  18.4]\n",
      " [  1.  164.5  20.9  47.4]\n",
      " [  1.   19.6  20.1  17. ]\n",
      " [  1.  168.4   7.1  12.8]\n",
      " [  1.  222.4   3.4  13.1]\n",
      " [  1.  276.9  48.9  41.8]\n",
      " [  1.  248.4  30.2  20.3]\n",
      " [  1.  170.2   7.8  35.2]\n",
      " [  1.  276.7   2.3  23.7]\n",
      " [  1.  165.6  10.   17.6]\n",
      " [  1.  156.6   2.6   8.3]\n",
      " [  1.  218.5   5.4  27.4]\n",
      " [  1.   56.2   5.7  29.7]\n",
      " [  1.  287.6  43.   71.8]\n",
      " [  1.  253.8  21.3  30. ]\n",
      " [  1.  205.   45.1  19.6]\n",
      " [  1.  139.5   2.1  26.6]\n",
      " [  1.  191.1  28.7  18.2]\n",
      " [  1.  286.   13.9   3.7]\n",
      " [  1.   18.7  12.1  23.4]\n",
      " [  1.   39.5  41.1   5.8]\n",
      " [  1.   75.5  10.8   6. ]\n",
      " [  1.   17.2   4.1  31.6]\n",
      " [  1.  166.8  42.    3.6]\n",
      " [  1.  149.7  35.6   6. ]\n",
      " [  1.   38.2   3.7  13.8]\n",
      " [  1.   94.2   4.9   8.1]\n",
      " [  1.  177.    9.3   6.4]\n",
      " [  1.  283.6  42.   66.2]\n",
      " [  1.  232.1   8.6   8.7]]\n",
      "[22.1 10.4 12.  16.5 17.9  7.2 11.8 13.2  4.8 15.6 12.6 17.4  9.2 13.7\n",
      " 19.  22.4 12.5 24.4 11.3 14.6 18.  17.5  5.6 20.5  9.7 17.  15.  20.9\n",
      " 18.9 10.5 21.4 11.9 13.2 17.4 11.9 17.8 25.4 14.7 10.1 21.5 16.6 17.1\n",
      " 20.7 17.9  8.5 16.1 10.6 23.2 19.8  9.7 16.4 10.7 22.6 21.2 20.2 23.7\n",
      "  5.5 13.2 23.8 18.4  8.1 24.2 20.7 14.  16.  11.3 11.  13.4 18.9 22.3\n",
      " 18.3 12.4  8.8 11.  17.   8.7  6.9 14.2  5.3 11.  11.8 17.3 11.3 13.6\n",
      " 21.7 20.2 12.  16.  12.9 16.7 14.   7.3 19.4 22.2 11.5 16.9 16.7 20.5\n",
      " 25.4 17.2 16.7 23.8 19.8 19.7 20.7 15.   7.2 12.   5.3 19.8 18.4 21.8\n",
      " 17.1 20.9 14.6 12.6 12.2  9.4 15.9  6.6 15.5  7.  16.6 15.2 19.7 10.6\n",
      "  6.6 11.9 24.7  9.7  1.6 17.7  5.7 19.6 10.8 11.6  9.5 20.8  9.6 20.7\n",
      " 10.9 19.2 20.1 10.4 12.3 10.3 18.2 25.4 10.9 10.1 16.1 11.6 16.6 16.\n",
      " 20.6  3.2 15.3 10.1  7.3 12.9 16.4 13.3 19.9 18.  11.9 16.9  8.  17.2\n",
      " 17.1 20.   8.4 17.5  7.6 16.7 16.5 27.  20.2 16.7 16.8 17.6 15.5 17.2\n",
      "  8.7 26.2 17.6 22.6 10.3 17.3 20.9  6.7 10.8 11.9  5.9 19.6 17.3  7.6\n",
      " 14.  14.8 25.5 18.4]\n"
     ]
    }
   ],
   "source": [
    "import numpy as np \n",
    "import matplotlib.pyplot as plt  \n",
    "import random\n",
    "random.seed(0) \n",
    "\n",
    "def load_data_from_file(filename = r\"C:\\Users\\HOME\\OneDrive\\Documents\\Downloads\\advertising.csv\"):\n",
    "    data = np.genfromtxt(filename, dtype=None, delimiter=',', skip_header=1)\n",
    "\n",
    "    features_X = data[:, :3]  \n",
    "    sales_Y = data[:, 3]      \n",
    "\n",
    "    ones_column = np.ones((features_X.shape[0], 1)) \n",
    "    features_X = np.hstack((ones_column, features_X))  \n",
    "\n",
    "    return features_X, sales_Y\n",
    "\n",
    "# Ví dụ sử dụng:\n",
    "features_X, sales_Y = load_data_from_file()\n",
    "print(features_X)  # In dữ liệu features_X (có thêm cột 1 ở đầu)\n",
    "print(sales_Y)     # In dữ liệu sales_Y (output)\n"
   ]
  },
  {
   "cell_type": "code",
   "execution_count": 2,
   "metadata": {},
   "outputs": [
    {
     "name": "stdout",
     "output_type": "stream",
     "text": [
      "[[  1.  230.1  37.8  69.2]\n",
      " [  1.   44.5  39.3  45.1]\n",
      " [  1.   17.2  45.9  69.3]\n",
      " [  1.  151.5  41.3  58.5]\n",
      " [  1.  180.8  10.8  58.4]]\n"
     ]
    }
   ],
   "source": [
    "feature_X, _ = load_data_from_file()\n",
    "print(feature_X[:5, :])\n",
    "\n",
    "\n"
   ]
  },
  {
   "cell_type": "code",
   "execution_count": 3,
   "metadata": {},
   "outputs": [
    {
     "name": "stdout",
     "output_type": "stream",
     "text": [
      "(200,)\n"
     ]
    }
   ],
   "source": [
    "_, Sales_y = load_data_from_file()\n",
    "print(Sales_y.shape)\n",
    "\n"
   ]
  },
  {
   "cell_type": "markdown",
   "metadata": {},
   "source": [
    "## Câu 2 ##"
   ]
  },
  {
   "cell_type": "markdown",
   "metadata": {},
   "source": [
    "create random gene "
   ]
  },
  {
   "cell_type": "code",
   "execution_count": 4,
   "metadata": {},
   "outputs": [
    {
     "name": "stdout",
     "output_type": "stream",
     "text": [
      "[3.4442185152504816, 2.5795440294030243, -0.79428419169155, -2.4108324970703663]\n"
     ]
    }
   ],
   "source": [
    "def create_individual(n = 4 , bound = 10):\n",
    "    \n",
    "    individual  = []\n",
    "    for i in range(n):\n",
    "        individual.append(random.uniform(-bound/2, +bound/2))\n",
    "    \n",
    "    return individual \n",
    "\n",
    "individual = create_individual()\n",
    "print(individual)\n"
   ]
  },
  {
   "cell_type": "markdown",
   "metadata": {},
   "source": [
    "## Câu 3 ##"
   ]
  },
  {
   "cell_type": "markdown",
   "metadata": {},
   "source": [
    "build fitness function \n"
   ]
  },
  {
   "cell_type": "code",
   "execution_count": 5,
   "metadata": {},
   "outputs": [
    {
     "name": "stdout",
     "output_type": "stream",
     "text": [
      "Kích thước của feature_X: (200, 4)\n",
      "Kích thước của individual: 4\n"
     ]
    }
   ],
   "source": [
    "feature_X, Sales_y = load_data_from_file()\n",
    "def compute_loss(individual):\n",
    "    theta = np.array(individual)\n",
    "    y_hat = feature_X.dot(theta)\n",
    "    loss = np.multiply((y_hat - Sales_y), (y_hat - Sales_y)).mean()\n",
    "    return loss \n",
    "\n",
    "def compute_fitness(individual):\n",
    "    loss = compute_loss(individual)\n",
    "    fitness_value = 1 / (loss + 1)\n",
    "    return fitness_value\n",
    " \n",
    "print(\"Kích thước của feature_X:\", feature_X.shape)\n",
    "print(\"Kích thước của individual:\", len(individual))\n",
    "\n"
   ]
  },
  {
   "cell_type": "code",
   "execution_count": 6,
   "metadata": {},
   "outputs": [
    {
     "name": "stdout",
     "output_type": "stream",
     "text": [
      "1.0185991537088997e-06\n"
     ]
    }
   ],
   "source": [
    "features_X , sales_Y = load_data_from_file()\n",
    "individual = [4.09 , 4.82 , 3.10 , 4.02]\n",
    "fitness_score = compute_fitness (individual)\n",
    "print(fitness_score )\n"
   ]
  },
  {
   "cell_type": "markdown",
   "metadata": {},
   "source": [
    "## Câu 4 ##"
   ]
  },
  {
   "cell_type": "markdown",
   "metadata": {},
   "source": [
    "crossover chromosome \n"
   ]
  },
  {
   "cell_type": "code",
   "execution_count": 7,
   "metadata": {},
   "outputs": [],
   "source": [
    "def crossover(individual1, individual2, crossover_rate = 0.5):\n",
    "    individual1_new = individual1.copy()\n",
    "    individual2_new = individual2.copy()\n",
    "\n",
    "    for i in range(len(individual1)):\n",
    "        if np.random.rand() <= crossover_rate:\n",
    "            individual1_new[i], individual2_new[i] = individual2_new[i], individual1_new[i]\n",
    "\n",
    "    return individual1_new, individual2_new\n",
    "\n",
    "\n",
    "\n",
    "\n"
   ]
  },
  {
   "cell_type": "code",
   "execution_count": 8,
   "metadata": {},
   "outputs": [
    {
     "name": "stdout",
     "output_type": "stream",
     "text": [
      " individual1 :  [3.44, 2.57, -0.79, -2.41]\n",
      " individual2 :  [4.09, 4.82, 3.1, 4.02]\n"
     ]
    }
   ],
   "source": [
    "# question 5\n",
    "individual1 = [4.09 , 4.82 , 3.10 , 4.02]\n",
    "individual2 = [3.44 , 2.57 , -0.79 , -2.41]\n",
    "individual1 , individual2 = crossover(individual1 , individual2 , 2.0)\n",
    "print (\" individual1 : \" , individual1 )\n",
    "print (\" individual2 : \" , individual2 )"
   ]
  },
  {
   "cell_type": "markdown",
   "metadata": {},
   "source": [
    "## câu 5 ##"
   ]
  },
  {
   "cell_type": "markdown",
   "metadata": {},
   "source": [
    "mutation chromosome \n"
   ]
  },
  {
   "cell_type": "code",
   "execution_count": 9,
   "metadata": {},
   "outputs": [
    {
     "name": "stdout",
     "output_type": "stream",
     "text": [
      "Original Individual: [4.09, 4.82, 3.1, 4.02]\n",
      "Mutated Individual: [4.09, 4.82, 3.1, 4.02]\n"
     ]
    }
   ],
   "source": [
    "import numpy as np\n",
    "\n",
    "def mutate(individual, mutation_rate=0.05):\n",
    "    individual_m = individual.copy()\n",
    "    for i in range(len(individual_m)):\n",
    "        if np.random.rand() <= mutation_rate:\n",
    "            mutation_value = np.random.uniform(-0.5, 0.5) \n",
    "            individual_m[i] += mutation_value\n",
    "    \n",
    "    return individual_m\n",
    "\n",
    "# Ví dụ sử dụng:\n",
    "individual = [4.09, 4.82, 3.10, 4.02]\n",
    "mutated_individual = mutate(individual)\n",
    "print(\"Original Individual:\", individual)\n",
    "print(\"Mutated Individual:\", mutated_individual)\n"
   ]
  },
  {
   "cell_type": "code",
   "execution_count": 10,
   "metadata": {},
   "outputs": [
    {
     "name": "stdout",
     "output_type": "stream",
     "text": [
      "False\n"
     ]
    }
   ],
   "source": [
    "before_individual = [4.09 , 4.82 , 3.10 , 4.02]\n",
    "after_individual = mutate( individual , mutation_rate = 2.0)\n",
    "print ( before_individual == after_individual )\n"
   ]
  },
  {
   "cell_type": "markdown",
   "metadata": {},
   "source": [
    "## Câu 6 ##\n"
   ]
  },
  {
   "cell_type": "code",
   "execution_count": 11,
   "metadata": {},
   "outputs": [],
   "source": [
    "def initialize_population(m):\n",
    "    population = [create_individual() for _ in range(m)]\n",
    "    return population\n",
    "\n"
   ]
  },
  {
   "cell_type": "markdown",
   "metadata": {},
   "source": [
    "## Câu 7 ##\n"
   ]
  },
  {
   "cell_type": "code",
   "execution_count": 62,
   "metadata": {},
   "outputs": [],
   "source": [
    "def selection(softed_old_population, m = 100):\n",
    "    index1 = random.randint(1, m-1)\n",
    "    while True:\n",
    "        index2 = random.randint(1, m-1)\n",
    "        if (index1 != index2):\n",
    "            break\n",
    "    \n",
    "    individual_s = softed_old_population[index1]\n",
    "    \n",
    "    if(index2 > index1):\n",
    "        individual_s = softed_old_population[index2]\n",
    "    \n",
    "    return individual_s"
   ]
  },
  {
   "cell_type": "code",
   "execution_count": null,
   "metadata": {},
   "outputs": [],
   "source": []
  }
 ],
 "metadata": {
  "kernelspec": {
   "display_name": "base",
   "language": "python",
   "name": "python3"
  },
  "language_info": {
   "codemirror_mode": {
    "name": "ipython",
    "version": 3
   },
   "file_extension": ".py",
   "mimetype": "text/x-python",
   "name": "python",
   "nbconvert_exporter": "python",
   "pygments_lexer": "ipython3",
   "version": "3.11.7"
  }
 },
 "nbformat": 4,
 "nbformat_minor": 2
}
