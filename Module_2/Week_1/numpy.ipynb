{
  "cells": [
    {
      "cell_type": "markdown",
      "metadata": {
        "id": "zRsKoGdUeSw6"
      },
      "source": [
        "## Lightness ##"
      ]
    },
    {
      "cell_type": "code",
      "execution_count": 1,
      "metadata": {
        "colab": {
          "base_uri": "https://localhost:8080/"
        },
        "id": "n6pTe8u_1F6H",
        "outputId": "a05f3009-e6b9-48f4-b2e9-a84128d52137"
      },
      "outputs": [
        {
          "name": "stdout",
          "output_type": "stream",
          "text": [
            "Downloading...\n",
            "From: https://drive.google.com/uc?id=1i9dqan21DjQoG5Q_VEvm0LrVwAlXD0vB\n",
            "To: /content/dog.jpeg\n",
            "\r  0% 0.00/33.7k [00:00<?, ?B/s]\r100% 33.7k/33.7k [00:00<00:00, 49.4MB/s]\n"
          ]
        }
      ],
      "source": [
        "!gdown 1i9dqan21DjQoG5Q_VEvm0LrVwAlXD0vB"
      ]
    },
    {
      "cell_type": "code",
      "execution_count": 6,
      "metadata": {
        "colab": {
          "base_uri": "https://localhost:8080/"
        },
        "id": "WbS3QKu51eiA",
        "outputId": "2dc1eca3-6b01-402e-9b8d-f2fe7d5eac1f"
      },
      "outputs": [
        {
          "data": {
            "text/plain": [
              "102.5"
            ]
          },
          "execution_count": 6,
          "metadata": {},
          "output_type": "execute_result"
        }
      ],
      "source": [
        "import matplotlib.image as mpimg\n",
        "import numpy as np\n",
        "img = mpimg.imread('/content/dog.jpeg')\n",
        "\n",
        "gray_img_01 = (np.max(img, axis = 2 ) + np.min(img, axis = 2) ) / 2\n",
        "gray_img_01[0, 0]"
      ]
    },
    {
      "cell_type": "markdown",
      "metadata": {
        "id": "JZguJ59GegqH"
      },
      "source": [
        "## Average ##"
      ]
    },
    {
      "cell_type": "code",
      "execution_count": 7,
      "metadata": {
        "colab": {
          "base_uri": "https://localhost:8080/"
        },
        "id": "bmo0cODIdFUI",
        "outputId": "72af657f-e9d3-4823-9ae5-fd5976e8a651"
      },
      "outputs": [
        {
          "data": {
            "text/plain": [
              "107.66666666666667"
            ]
          },
          "execution_count": 7,
          "metadata": {},
          "output_type": "execute_result"
        }
      ],
      "source": [
        "gray_img_02 = np.mean(img, axis = 2)\n",
        "gray_img_02[0, 0]"
      ]
    },
    {
      "cell_type": "markdown",
      "metadata": {
        "id": "XtA_XZyRex62"
      },
      "source": [
        "## Luminosity ##"
      ]
    },
    {
      "cell_type": "code",
      "execution_count": 8,
      "metadata": {
        "colab": {
          "base_uri": "https://localhost:8080/"
        },
        "id": "j6CKT7GweQUE",
        "outputId": "f957170f-f961-45c2-a656-12e42b7991e7"
      },
      "outputs": [
        {
          "data": {
            "text/plain": [
              "126.22999999999999"
            ]
          },
          "execution_count": 8,
          "metadata": {},
          "output_type": "execute_result"
        }
      ],
      "source": [
        "gray_img_03 = 0.21 * img[:,:,0] + 0.72 * img[0:,:,1] + 0.07 * img[:,:,2]\n",
        "gray_img_03[0,0]"
      ]
    },
    {
      "cell_type": "markdown",
      "metadata": {
        "id": "AgNSW1nlfW2r"
      },
      "source": [
        "**Data Tabular**"
      ]
    },
    {
      "cell_type": "code",
      "execution_count": 12,
      "metadata": {
        "colab": {
          "base_uri": "https://localhost:8080/"
        },
        "id": "JfbkQVcvfily",
        "outputId": "1ee8adb0-10da-4612-ad1f-e23741fbccca"
      },
      "outputs": [
        {
          "name": "stdout",
          "output_type": "stream",
          "text": [
            "Downloading...\n",
            "From: https://drive.google.com/uc?id=1iA0WmVfW88HyJvTBSQDI5vesf-pgKabq\n",
            "To: /content/advertising.csv\n",
            "\r  0% 0.00/4.06k [00:00<?, ?B/s]\r100% 4.06k/4.06k [00:00<00:00, 16.3MB/s]\n"
          ]
        }
      ],
      "source": [
        "!gdown 1iA0WmVfW88HyJvTBSQDI5vesf-pgKabq"
      ]
    },
    {
      "cell_type": "markdown",
      "metadata": {
        "id": "fvZWlhjXnqk1"
      },
      "source": [
        "**Câu 15**"
      ]
    },
    {
      "cell_type": "code",
      "execution_count": 24,
      "metadata": {
        "colab": {
          "base_uri": "https://localhost:8080/"
        },
        "id": "_pXUwWDufjDD",
        "outputId": "fb425622-2092-4487-85ef-9cbeb3d835ec"
      },
      "outputs": [
        {
          "name": "stdout",
          "output_type": "stream",
          "text": [
            "200\n"
          ]
        }
      ],
      "source": [
        "import pandas as pd\n",
        "df = pd.read_csv('/content/advertising.csv')\n",
        "data = df.to_numpy()\n",
        "print(len(df))"
      ]
    },
    {
      "cell_type": "code",
      "execution_count": 16,
      "metadata": {
        "colab": {
          "base_uri": "https://localhost:8080/"
        },
        "id": "5bIALU2Hf1uh",
        "outputId": "5e586aa3-66c0-4970-aa3e-1b976ba3ac53"
      },
      "outputs": [
        {
          "name": "stdout",
          "output_type": "stream",
          "text": [
            "      TV  Radio  Newspaper  Sales\n",
            "0  230.1   37.8       69.2   22.1\n",
            "1   44.5   39.3       45.1   10.4\n",
            "2   17.2   45.9       69.3   12.0\n",
            "3  151.5   41.3       58.5   16.5\n",
            "4  180.8   10.8       58.4   17.9\n"
          ]
        }
      ],
      "source": [
        "print(df[:5])"
      ]
    },
    {
      "cell_type": "code",
      "execution_count": 32,
      "metadata": {
        "colab": {
          "base_uri": "https://localhost:8080/"
        },
        "id": "A7wUAy1YgBbi",
        "outputId": "4fb6a7cf-c437-4c43-e231-a611e2e4ccc5"
      },
      "outputs": [
        {
          "name": "stdout",
          "output_type": "stream",
          "text": [
            "27.0\n",
            "175\n"
          ]
        }
      ],
      "source": [
        "max_value = df['Sales'].max()\n",
        "max_idx = df['Sales'].idxmax()\n",
        "print(max_value)\n",
        "print(max_idx)"
      ]
    },
    {
      "cell_type": "markdown",
      "metadata": {
        "id": "v4pJkihRnl6C"
      },
      "source": [
        "**Câu 16**"
      ]
    },
    {
      "cell_type": "code",
      "execution_count": 34,
      "metadata": {
        "colab": {
          "base_uri": "https://localhost:8080/"
        },
        "id": "knMEAZ0zg5q9",
        "outputId": "044a8cdc-7fe9-442a-a3ab-ca9315155f51"
      },
      "outputs": [
        {
          "name": "stdout",
          "output_type": "stream",
          "text": [
            "mean value TV is 147.0425\n"
          ]
        }
      ],
      "source": [
        "mean_value = df['TV '].mean()\n",
        "print(f'mean value TV is {mean_value}')"
      ]
    },
    {
      "cell_type": "markdown",
      "metadata": {
        "id": "IGwvdmgFnjv4"
      },
      "source": [
        "**Câu 17**"
      ]
    },
    {
      "cell_type": "code",
      "execution_count": 36,
      "metadata": {
        "colab": {
          "base_uri": "https://localhost:8080/"
        },
        "id": "pQOt8BgoiZiF",
        "outputId": "78bd63a8-1a95-4c49-d76c-14e0282c820f"
      },
      "outputs": [
        {
          "name": "stdout",
          "output_type": "stream",
          "text": [
            "count of TV >= 20 is 40\n"
          ]
        }
      ],
      "source": [
        "filtered_df = df[df['Sales'] >= 20]\n",
        "count = filtered_df.shape[0]\n",
        "print(f'count of TV >= 20 is {count}')"
      ]
    },
    {
      "cell_type": "markdown",
      "metadata": {
        "id": "gOIKlkVgnhn6"
      },
      "source": [
        "**Câu 18**"
      ]
    },
    {
      "cell_type": "code",
      "execution_count": 39,
      "metadata": {
        "colab": {
          "base_uri": "https://localhost:8080/"
        },
        "id": "Q54LgJ9vjV92",
        "outputId": "6325ad5e-5c8c-4f35-9b08-b6e9499bf39d"
      },
      "outputs": [
        {
          "name": "stdout",
          "output_type": "stream",
          "text": [
            "26.22293577981651\n"
          ]
        }
      ],
      "source": [
        "filtered_df_1 = df[df['Sales'] >= 15]\n",
        "print(filtered_df_1['Radio'].mean())"
      ]
    },
    {
      "cell_type": "markdown",
      "metadata": {
        "id": "U1jogr1Fnelm"
      },
      "source": [
        "**Câu 19**"
      ]
    },
    {
      "cell_type": "code",
      "execution_count": 45,
      "metadata": {
        "colab": {
          "base_uri": "https://localhost:8080/"
        },
        "id": "wkulr6XHlVeI",
        "outputId": "0cdf2380-b949-4bcf-f5ac-7d45ad26d0f1"
      },
      "outputs": [
        {
          "name": "stdout",
          "output_type": "stream",
          "text": [
            "1405.1\n"
          ]
        }
      ],
      "source": [
        "# mean_paper = df['Newspaper'].mean()\n",
        "filtered_df_2 = df[df['Newspaper'] > df['Newspaper'].mean()]\n",
        "print(filtered_df_2['Sales'].sum())"
      ]
    },
    {
      "cell_type": "markdown",
      "metadata": {
        "id": "H7Uv_3VBnab7"
      },
      "source": [
        "**Câu 20**"
      ]
    },
    {
      "cell_type": "code",
      "execution_count": 48,
      "metadata": {
        "colab": {
          "base_uri": "https://localhost:8080/"
        },
        "id": "3M4Px8xMmH53",
        "outputId": "1e31b4f5-c3ae-4d7c-e7c6-0210266b897b"
      },
      "outputs": [
        {
          "name": "stdout",
          "output_type": "stream",
          "text": [
            "['Bad' 'Bad' 'Good']\n"
          ]
        }
      ],
      "source": [
        "A = df['Sales'].mean()\n",
        "scores = df['Sales'].apply(lambda x: 'Good' if x > A else 'Bad' if x < A else 'Average')\n",
        "\n",
        "print(scores[7:10].values)"
      ]
    },
    {
      "cell_type": "code",
      "execution_count": null,
      "metadata": {
        "id": "-N6YvfKgylex"
      },
      "outputs": [],
      "source": []
    }
  ],
  "metadata": {
    "colab": {
      "provenance": []
    },
    "kernelspec": {
      "display_name": "Python 3",
      "name": "python3"
    },
    "language_info": {
      "name": "python"
    }
  },
  "nbformat": 4,
  "nbformat_minor": 0
}
