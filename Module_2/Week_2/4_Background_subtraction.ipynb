{
 "cells": [
  {
   "cell_type": "code",
   "execution_count": 1,
   "metadata": {},
   "outputs": [
    {
     "name": "stdout",
     "output_type": "stream",
     "text": [
      "(381, 678, 3) (381, 678, 3) (408, 612, 3)\n"
     ]
    }
   ],
   "source": [
    "import numpy as np\n",
    "import cv2 \n",
    "\n",
    "original_backgound_img = cv2.imread(\"E:/GreenBackground.png\", 1)\n",
    "object_image = cv2.imread(\"E:/Object.png\", 1)\n",
    "target_background_img = cv2.imread(\"E:/NewBackground.jpg\", 1)\n",
    "\n",
    "print(original_backgound_img.shape, object_image.shape, target_background_img.shape)"
   ]
  },
  {
   "cell_type": "code",
   "execution_count": 2,
   "metadata": {},
   "outputs": [],
   "source": [
    "IMG_SIZE = ( 678, 318)\n",
    "\n",
    "original_background_img = cv2.resize(original_backgound_img, IMG_SIZE)\n",
    "object_image = cv2.resize(object_image, IMG_SIZE)\n",
    "target_background_img = cv2.resize(target_background_img, IMG_SIZE)"
   ]
  },
  {
   "cell_type": "code",
   "execution_count": 3,
   "metadata": {},
   "outputs": [],
   "source": [
    "# cv2.imshow(\"Original Background\", original_background_img)\n",
    "# cv2.imshow(\"Object Image\", object_image)"
   ]
  },
  {
   "cell_type": "code",
   "execution_count": 4,
   "metadata": {},
   "outputs": [],
   "source": [
    "differences = cv2.absdiff(original_background_img, object_image)  # Use resized images\n",
    "# cv2.imshow(\"Differences\", differences)  # Add a window name"
   ]
  },
  {
   "cell_type": "code",
   "execution_count": null,
   "metadata": {},
   "outputs": [],
   "source": [
    "binary_img = np.where(defferences_single >= 10, 255, 0)\n",
    "binary_img = np.stack((binary_img,) * 3, axis = -1)\n",
    "\n"
   ]
  },
  {
   "cell_type": "code",
   "execution_count": null,
   "metadata": {},
   "outputs": [],
   "source": [
    "output= np.where(bianry_img == 255, differences_single, target_background_img)\n"
   ]
  },
  {
   "cell_type": "code",
   "execution_count": null,
   "metadata": {},
   "outputs": [],
   "source": []
  },
  {
   "cell_type": "code",
   "execution_count": null,
   "metadata": {},
   "outputs": [],
   "source": []
  },
  {
   "cell_type": "markdown",
   "metadata": {},
   "source": []
  },
  {
   "cell_type": "markdown",
   "metadata": {},
   "source": []
  }
 ],
 "metadata": {
  "kernelspec": {
   "display_name": "base",
   "language": "python",
   "name": "python3"
  },
  "language_info": {
   "codemirror_mode": {
    "name": "ipython",
    "version": 3
   },
   "file_extension": ".py",
   "mimetype": "text/x-python",
   "name": "python",
   "nbconvert_exporter": "python",
   "pygments_lexer": "ipython3",
   "version": "3.11.7"
  }
 },
 "nbformat": 4,
 "nbformat_minor": 2
}
