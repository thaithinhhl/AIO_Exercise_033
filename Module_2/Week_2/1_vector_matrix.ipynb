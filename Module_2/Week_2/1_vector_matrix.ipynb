{
 "cells": [
  {
   "cell_type": "markdown",
   "metadata": {},
   "source": [
    "## Length of a matrix ##"
   ]
  },
  {
   "cell_type": "markdown",
   "metadata": {},
   "source": []
  },
  {
   "cell_type": "code",
   "execution_count": 2,
   "metadata": {},
   "outputs": [
    {
     "name": "stdout",
     "output_type": "stream",
     "text": [
      "23.28\n"
     ]
    }
   ],
   "source": [
    "import numpy as np\n",
    "\n",
    "def compute_vector_length(vector):\n",
    "    norm = np.sqrt(np.sum([v ** 2 for v in vector]))\n",
    "    \n",
    "    return norm\n",
    "\n",
    "vector = np.array([-2, 4 , 9, 21])\n",
    "result = compute_vector_length([vector])\n",
    "print(round(result, 2))"
   ]
  },
  {
   "cell_type": "code",
   "execution_count": 3,
   "metadata": {},
   "outputs": [
    {
     "name": "stdout",
     "output_type": "stream",
     "text": [
      "5.48\n"
     ]
    }
   ],
   "source": [
    "def compute_vector_length_v2(vector):\n",
    "    norm = np.linalg.norm(vector)\n",
    "    \n",
    "    return norm\n",
    "\n",
    "input_vector = np.array([1,2,3,4])\n",
    "norm = compute_vector_length_v2(input_vector)\n",
    "\n",
    "print(round(norm, 2))\n",
    "    \n",
    "    "
   ]
  },
  {
   "cell_type": "markdown",
   "metadata": {},
   "source": [
    "## Dot product ##"
   ]
  },
  {
   "cell_type": "code",
   "execution_count": 4,
   "metadata": {},
   "outputs": [
    {
     "name": "stdout",
     "output_type": "stream",
     "text": [
      "4\n"
     ]
    }
   ],
   "source": [
    "# tich vo huong\n",
    "\n",
    "def conpute_dot_product(vector1, vector2):\n",
    "    result = np.dot(vector1, vector2)\n",
    "    \n",
    "    return result \n",
    "\n",
    "vector1 = np.array([0,1,-1,2])\n",
    "vector2 = np.array([2,5,1,0])\n",
    "\n",
    "result = conpute_dot_product(vector1, vector2)\n",
    "\n",
    "print(round(result, 2))"
   ]
  },
  {
   "cell_type": "code",
   "execution_count": 5,
   "metadata": {},
   "outputs": [
    {
     "name": "stdout",
     "output_type": "stream",
     "text": [
      "4\n"
     ]
    }
   ],
   "source": [
    "print(round(vector1.dot(vector2)))"
   ]
  },
  {
   "cell_type": "code",
   "execution_count": 6,
   "metadata": {},
   "outputs": [
    {
     "name": "stdout",
     "output_type": "stream",
     "text": [
      "4\n"
     ]
    }
   ],
   "source": [
    "print(vector1@vector2)"
   ]
  },
  {
   "cell_type": "markdown",
   "metadata": {},
   "source": [
    "## Multiplying a vector by a matrix ##"
   ]
  },
  {
   "cell_type": "code",
   "execution_count": 7,
   "metadata": {},
   "outputs": [
    {
     "name": "stdout",
     "output_type": "stream",
     "text": [
      "[1 5]\n"
     ]
    }
   ],
   "source": [
    "def matrix_multi_vector(matrix, vector):\n",
    "    result = np.dot(matrix, vector)\n",
    "    \n",
    "    return result\n",
    "\n",
    "m = np.array([[-1,1,1],\n",
    "              [0,-4,9]])\n",
    "v = np.array([1,1,1])\n",
    "\n",
    "result = matrix_multi_vector(m,v)\n",
    "print(result)"
   ]
  },
  {
   "cell_type": "markdown",
   "metadata": {},
   "source": [
    "## Multiplying a matrix by a maxtrix ##"
   ]
  },
  {
   "cell_type": "code",
   "execution_count": 8,
   "metadata": {},
   "outputs": [
    {
     "name": "stdout",
     "output_type": "stream",
     "text": [
      "(2, 2)\n"
     ]
    }
   ],
   "source": [
    "def matrix_multi_matrix(matrix1, matrix2):\n",
    "    result = np.dot(matrix1, matrix2)\n",
    "    \n",
    "    return result\n",
    "\n",
    "matrix1 = np.array([[1,2,3],\n",
    "                    [1,2,3]])\n",
    "matrix2 = np.array([[1,2],\n",
    "                    [1,2],\n",
    "                    [1,2]])\n",
    "\n",
    "result = matrix_multi_matrix(matrix1, matrix2).shape\n",
    "\n",
    "print(result)"
   ]
  },
  {
   "cell_type": "markdown",
   "metadata": {},
   "source": [
    "## Matrix inverse ##"
   ]
  },
  {
   "cell_type": "code",
   "execution_count": 4,
   "metadata": {},
   "outputs": [
    {
     "name": "stdout",
     "output_type": "stream",
     "text": [
      "[[-2.   1. ]\n",
      " [ 1.5 -0.5]]\n"
     ]
    }
   ],
   "source": [
    "import numpy as np\n",
    "def inverse_matrix(matrix):\n",
    "    result = np.linalg.inv(matrix)\n",
    "    \n",
    "    return result \n",
    "\n",
    "m1 = np.array([[1,2],\n",
    "               [3,4]])\n",
    "\n",
    "result = inverse_matrix(m1)\n",
    "print(result)"
   ]
  },
  {
   "cell_type": "code",
   "execution_count": null,
   "metadata": {},
   "outputs": [],
   "source": [
    "from sympy import symbols, Eq, solve\n",
    "\n",
    "# Define the symbols\n",
    "x, y, z = symbols('x y z')\n",
    "\n",
    "# Define the equations of the planes\n",
    "eq1 = Eq(x + y + z, 3)\n",
    "eq2 = Eq(x + y + z, -3)\n",
    "eq3 = Eq(x + 2*y - z, 1)\n",
    "eq4 = Eq(x + 2*y - z, -1)\n",
    "eq5 = Eq(x + 4*y + z, 2)\n",
    "eq6 = Eq(x + 4*y + z, -2)\n",
    "\n",
    "# Find the intersection lines in terms of y and z\n",
    "intersection_1 = solve((eq1, eq3), (y, z))\n",
    "intersection_2 = solve((eq1, eq5), (y, z))\n",
    "\n",
    "intersection_3 = solve((eq2, eq4), (y, z))\n",
    "intersection_4 = solve((eq2, eq6), (y, z))\n",
    "\n",
    "intersection_5 = solve((eq3, eq5), (y, z))\n",
    "intersection_6 = solve((eq4, eq6), (y, z))\n",
    "\n",
    "intersection_1, intersection_2, intersection_3, intersection_4, intersection_5, intersection_6\n"
   ]
  },
  {
   "cell_type": "code",
   "execution_count": null,
   "metadata": {},
   "outputs": [],
   "source": []
  }
 ],
 "metadata": {
  "kernelspec": {
   "display_name": "base",
   "language": "python",
   "name": "python3"
  },
  "language_info": {
   "codemirror_mode": {
    "name": "ipython",
    "version": 3
   },
   "file_extension": ".py",
   "mimetype": "text/x-python",
   "name": "python",
   "nbconvert_exporter": "python",
   "pygments_lexer": "ipython3",
   "version": "3.11.7"
  }
 },
 "nbformat": 4,
 "nbformat_minor": 2
}
