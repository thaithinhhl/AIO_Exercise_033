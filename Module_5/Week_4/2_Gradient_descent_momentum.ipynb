{
 "cells": [
  {
   "cell_type": "code",
   "execution_count": 1,
   "metadata": {},
   "outputs": [
    {
     "name": "stdout",
     "output_type": "stream",
     "text": [
      "Epoch 1: w1 = -4.9000, w2 = -1.9600\n",
      "Epoch 2: w1 = -4.7120, w2 = -1.8848\n",
      "Epoch 3: w1 = -4.4486, w2 = -1.7794\n",
      "Epoch 4: w1 = -4.1225, w2 = -1.6490\n",
      "Epoch 5: w1 = -3.7466, w2 = -1.4986\n",
      "Epoch 6: w1 = -3.3333, w2 = -1.3333\n",
      "Epoch 7: w1 = -2.8947, w2 = -1.1579\n",
      "Epoch 8: w1 = -2.4421, w2 = -0.9768\n",
      "Epoch 9: w1 = -1.9859, w2 = -0.7944\n",
      "Epoch 10: w1 = -1.5356, w2 = -0.6142\n",
      "Epoch 11: w1 = -1.0996, w2 = -0.4398\n",
      "Epoch 12: w1 = -0.6852, w2 = -0.2741\n",
      "Epoch 13: w1 = -0.2986, w2 = -0.1194\n",
      "Epoch 14: w1 = 0.0554, w2 = 0.0221\n",
      "Epoch 15: w1 = 0.3728, w2 = 0.1491\n",
      "Epoch 16: w1 = 0.6511, w2 = 0.2604\n",
      "Epoch 17: w1 = 0.8885, w2 = 0.3554\n",
      "Epoch 18: w1 = 1.0844, w2 = 0.4337\n",
      "Epoch 19: w1 = 1.2390, w2 = 0.4956\n",
      "Epoch 20: w1 = 1.3534, w2 = 0.5413\n",
      "Epoch 21: w1 = 1.4292, w2 = 0.5717\n",
      "Epoch 22: w1 = 1.4689, w2 = 0.5876\n",
      "Epoch 23: w1 = 1.4753, w2 = 0.5901\n",
      "Epoch 24: w1 = 1.4515, w2 = 0.5806\n",
      "Epoch 25: w1 = 1.4010, w2 = 0.5604\n",
      "Epoch 26: w1 = 1.3276, w2 = 0.5311\n",
      "Epoch 27: w1 = 1.2350, w2 = 0.4940\n",
      "Epoch 28: w1 = 1.1269, w2 = 0.4508\n",
      "Epoch 29: w1 = 1.0071, w2 = 0.4029\n",
      "Epoch 30: w1 = 0.8792, w2 = 0.3517\n"
     ]
    }
   ],
   "source": [
    "import numpy as np\n",
    "\n",
    "def function(w1, w2):\n",
    "    # Hàm cần tối ưu hóa (thay thế bằng hàm thực tế của bạn)\n",
    "    return w1**2 + w2**2\n",
    "\n",
    "def df_w(w1, w2):\n",
    "    # Đạo hàm của hàm trên theo w1 và w2\n",
    "    dw1 = 2 * w1\n",
    "    dw2 = 2 * w2\n",
    "    return np.array([dw1, dw2])\n",
    "\n",
    "def sgd_momentum(grad, V, alpha, beta):\n",
    "    \"\"\"\n",
    "    Hàm Gradient Descent + Momentum\n",
    "    grad: Gradient tại điểm hiện tại (numpy array)\n",
    "    V: Tốc độ tích lũy từ các bước trước (numpy array)\n",
    "    alpha: Learning rate\n",
    "    beta: Momentum coefficient\n",
    "    \"\"\"\n",
    "    V = beta * V + (1 - beta) * grad  # Cập nhật momentum\n",
    "    W = -alpha * V  # Cập nhật weights\n",
    "    return V, W\n",
    "\n",
    "def train_p1(learning_rate, beta, epochs, init_w1, init_w2):\n",
    "    results = []  # Để lưu các điểm trong quá trình tối ưu\n",
    "    w1, w2 = init_w1, init_w2\n",
    "    V = np.array([0.0, 0.0])  # Tốc độ khởi tạo ban đầu (numpy array)\n",
    "\n",
    "    for epoch in range(epochs):\n",
    "        # Tính gradient\n",
    "        grad = df_w(w1, w2)\n",
    "        # Cập nhật momentum và weights\n",
    "        V, delta_W = sgd_momentum(grad, V, learning_rate, beta)\n",
    "        w1 += delta_W[0]\n",
    "        w2 += delta_W[1]\n",
    "        results.append([w1, w2])  # Lưu kết quả sau mỗi epoch\n",
    "\n",
    "    return results\n",
    "\n",
    "# Tham số đầu vào\n",
    "learning_rate = 0.1\n",
    "beta = 0.9\n",
    "epochs = 30\n",
    "init_w1, init_w2 = -5, -2\n",
    "\n",
    "# Thực thi bài toán\n",
    "results = train_p1(learning_rate, beta, epochs, init_w1, init_w2)\n",
    "\n",
    "# In kết quả\n",
    "for i, (w1, w2) in enumerate(results):\n",
    "    print(f\"Epoch {i+1}: w1 = {w1:.4f}, w2 = {w2:.4f}\")\n"
   ]
  },
  {
   "cell_type": "code",
   "execution_count": null,
   "metadata": {},
   "outputs": [],
   "source": []
  }
 ],
 "metadata": {
  "kernelspec": {
   "display_name": "base",
   "language": "python",
   "name": "python3"
  },
  "language_info": {
   "codemirror_mode": {
    "name": "ipython",
    "version": 3
   },
   "file_extension": ".py",
   "mimetype": "text/x-python",
   "name": "python",
   "nbconvert_exporter": "python",
   "pygments_lexer": "ipython3",
   "version": "3.11.7"
  }
 },
 "nbformat": 4,
 "nbformat_minor": 2
}
