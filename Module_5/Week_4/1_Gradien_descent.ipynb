{
 "cells": [
  {
   "cell_type": "code",
   "execution_count": 1,
   "metadata": {},
   "outputs": [
    {
     "name": "stdout",
     "output_type": "stream",
     "text": [
      "Epoch 1: w1 = -4.0000, w2 = -1.6000\n",
      "Epoch 2: w1 = -3.2000, w2 = -1.2800\n",
      "Epoch 3: w1 = -2.5600, w2 = -1.0240\n",
      "Epoch 4: w1 = -2.0480, w2 = -0.8192\n",
      "Epoch 5: w1 = -1.6384, w2 = -0.6554\n",
      "Epoch 6: w1 = -1.3107, w2 = -0.5243\n",
      "Epoch 7: w1 = -1.0486, w2 = -0.4194\n",
      "Epoch 8: w1 = -0.8389, w2 = -0.3355\n",
      "Epoch 9: w1 = -0.6711, w2 = -0.2684\n",
      "Epoch 10: w1 = -0.5369, w2 = -0.2147\n",
      "Epoch 11: w1 = -0.4295, w2 = -0.1718\n",
      "Epoch 12: w1 = -0.3436, w2 = -0.1374\n",
      "Epoch 13: w1 = -0.2749, w2 = -0.1100\n",
      "Epoch 14: w1 = -0.2199, w2 = -0.0880\n",
      "Epoch 15: w1 = -0.1759, w2 = -0.0704\n",
      "Epoch 16: w1 = -0.1407, w2 = -0.0563\n",
      "Epoch 17: w1 = -0.1126, w2 = -0.0450\n",
      "Epoch 18: w1 = -0.0901, w2 = -0.0360\n",
      "Epoch 19: w1 = -0.0721, w2 = -0.0288\n",
      "Epoch 20: w1 = -0.0576, w2 = -0.0231\n",
      "Epoch 21: w1 = -0.0461, w2 = -0.0184\n",
      "Epoch 22: w1 = -0.0369, w2 = -0.0148\n",
      "Epoch 23: w1 = -0.0295, w2 = -0.0118\n",
      "Epoch 24: w1 = -0.0236, w2 = -0.0094\n",
      "Epoch 25: w1 = -0.0189, w2 = -0.0076\n",
      "Epoch 26: w1 = -0.0151, w2 = -0.0060\n",
      "Epoch 27: w1 = -0.0121, w2 = -0.0048\n",
      "Epoch 28: w1 = -0.0097, w2 = -0.0039\n",
      "Epoch 29: w1 = -0.0077, w2 = -0.0031\n",
      "Epoch 30: w1 = -0.0062, w2 = -0.0025\n"
     ]
    }
   ],
   "source": [
    "import numpy as np\n",
    "\n",
    "def function(w1, w2):\n",
    "    # Hàm cần tối ưu hóa (thay thế bằng hàm thực tế của bạn)\n",
    "    return w1**2 + w2**2\n",
    "\n",
    "def df_w(w1, w2):\n",
    "    # Đạo hàm của hàm trên theo w1 và w2\n",
    "    dw1 = 2 * w1\n",
    "    dw2 = 2 * w2\n",
    "    return np.array([dw1, dw2])\n",
    "\n",
    "def sgd(grad, W, alpha):\n",
    "    \"\"\"\n",
    "    Hàm Gradient Descent\n",
    "    grad: Gradient tại điểm hiện tại\n",
    "    W: Giá trị hiện tại của [w1, w2]\n",
    "    alpha: Learning rate\n",
    "    \"\"\"\n",
    "    W = W - alpha * grad  # Cập nhật tham số W\n",
    "    return W\n",
    "\n",
    "def train_p1(learning_rate, epochs, init_w1, init_w2):\n",
    "    results = []  # Để lưu các điểm trong quá trình tối ưu\n",
    "    w1, w2 = init_w1, init_w2\n",
    "    W = np.array([w1, w2])  # Tạo mảng ban đầu chứa w1 và w2\n",
    "\n",
    "    for epoch in range(epochs):\n",
    "        # Tính gradient\n",
    "        grad = df_w(W[0], W[1])\n",
    "        # Cập nhật tham số W\n",
    "        W = sgd(grad, W, learning_rate)\n",
    "        results.append([W[0], W[1]])  # Lưu kết quả sau mỗi epoch\n",
    "\n",
    "    return results\n",
    "\n",
    "# Tham số đầu vào\n",
    "learning_rate = 0.1\n",
    "epochs = 30\n",
    "init_w1, init_w2 = -5, -2\n",
    "\n",
    "# Thực thi bài toán\n",
    "results = train_p1(learning_rate, epochs, init_w1, init_w2)\n",
    "\n",
    "# In kết quả\n",
    "for i, (w1, w2) in enumerate(results):\n",
    "    print(f\"Epoch {i+1}: w1 = {w1:.4f}, w2 = {w2:.4f}\")\n"
   ]
  },
  {
   "cell_type": "code",
   "execution_count": null,
   "metadata": {},
   "outputs": [],
   "source": []
  }
 ],
 "metadata": {
  "kernelspec": {
   "display_name": "base",
   "language": "python",
   "name": "python3"
  },
  "language_info": {
   "codemirror_mode": {
    "name": "ipython",
    "version": 3
   },
   "file_extension": ".py",
   "mimetype": "text/x-python",
   "name": "python",
   "nbconvert_exporter": "python",
   "pygments_lexer": "ipython3",
   "version": "3.11.7"
  }
 },
 "nbformat": 4,
 "nbformat_minor": 2
}
