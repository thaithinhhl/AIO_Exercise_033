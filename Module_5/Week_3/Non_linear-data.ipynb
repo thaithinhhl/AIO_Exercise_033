{
 "cells": [
  {
   "cell_type": "code",
   "execution_count": 3,
   "metadata": {},
   "outputs": [],
   "source": [
    "# Import necessary libraries\n",
    "import numpy as np\n",
    "import torch\n",
    "import torch.nn as nn\n",
    "import torch.nn.functional as F\n",
    "from torch.utils.data import Dataset, DataLoader\n",
    "from sklearn.model_selection import train_test_split\n",
    "from sklearn.preprocessing import StandardScaler\n",
    "import matplotlib.pyplot as plt\n"
   ]
  },
  {
   "cell_type": "code",
   "execution_count": 4,
   "metadata": {},
   "outputs": [],
   "source": [
    "# Set random seed for reproducibility\n",
    "random_state = 59\n",
    "np.random.seed(random_state)\n",
    "torch.manual_seed(random_state)\n",
    "if torch.cuda.is_available():\n",
    "    torch.cuda.manual_seed(random_state)\n",
    "\n",
    "# Define device\n",
    "device = torch.device('cuda' if torch.cuda.is_available() else 'cpu')\n"
   ]
  },
  {
   "cell_type": "code",
   "execution_count": 5,
   "metadata": {},
   "outputs": [
    {
     "name": "stdout",
     "output_type": "stream",
     "text": [
      "Shape of X: (300, 2), Shape of y: (300,)\n"
     ]
    }
   ],
   "source": [
    "# Load dataset\n",
    "data_path = r\"C:\\Users\\HOME\\OneDrive\\Documents\\Downloads\\NonLinear_data.npy\"\n",
    "data = np.load(data_path, allow_pickle=True).item()\n",
    "X, y = data['X'], data['labels']\n",
    "\n",
    "print(f\"Shape of X: {X.shape}, Shape of y: {y.shape}\")\n"
   ]
  },
  {
   "cell_type": "code",
   "execution_count": 6,
   "metadata": {},
   "outputs": [
    {
     "name": "stdout",
     "output_type": "stream",
     "text": [
      "Training size: 210, Validation size: 60, Test size: 30\n"
     ]
    }
   ],
   "source": [
    "# Split data into train/validation/test sets\n",
    "val_size = 0.2\n",
    "test_size = 0.125\n",
    "is_shuffle = True\n",
    "\n",
    "X_train, X_val, y_train, y_val = train_test_split(\n",
    "    X, y, test_size=val_size, random_state=random_state, shuffle=is_shuffle\n",
    ")\n",
    "X_train, X_test, y_train, y_test = train_test_split(\n",
    "    X_train, y_train, test_size=test_size, random_state=random_state, shuffle=is_shuffle\n",
    ")\n",
    "\n",
    "print(f\"Training size: {X_train.shape[0]}, Validation size: {X_val.shape[0]}, Test size: {X_test.shape[0]}\")\n"
   ]
  },
  {
   "cell_type": "code",
   "execution_count": 7,
   "metadata": {},
   "outputs": [],
   "source": [
    "# Normalize data\n",
    "normalizer = StandardScaler()\n",
    "X_train = normalizer.fit_transform(X_train)\n",
    "X_val = normalizer.transform(X_val)\n",
    "X_test = normalizer.transform(X_test)\n",
    "\n",
    "# Convert to tensors\n",
    "X_train = torch.tensor(X_train, dtype=torch.float32)\n",
    "X_val = torch.tensor(X_val, dtype=torch.float32)\n",
    "X_test = torch.tensor(X_test, dtype=torch.float32)\n",
    "y_train = torch.tensor(y_train, dtype=torch.long)\n",
    "y_val = torch.tensor(y_val, dtype=torch.long)\n",
    "y_test = torch.tensor(y_test, dtype=torch.long)\n"
   ]
  },
  {
   "cell_type": "code",
   "execution_count": 8,
   "metadata": {},
   "outputs": [],
   "source": [
    "# Define custom dataset class\n",
    "class CustomDataset(Dataset):\n",
    "    def __init__(self, X, y):\n",
    "        self.X = X\n",
    "        self.y = y\n",
    "\n",
    "    def __len__(self):\n",
    "        return len(self.y)\n",
    "\n",
    "    def __getitem__(self, idx):\n",
    "        return self.X[idx], self.y[idx]\n",
    "\n",
    "# Create DataLoaders\n",
    "batch_size = 32\n",
    "train_dataset = CustomDataset(X_train, y_train)\n",
    "val_dataset = CustomDataset(X_val, y_val)\n",
    "test_dataset = CustomDataset(X_test, y_test)\n",
    "\n",
    "train_loader = DataLoader(train_dataset, batch_size=batch_size, shuffle=True)\n",
    "val_loader = DataLoader(val_dataset, batch_size=batch_size, shuffle=False)\n",
    "test_loader = DataLoader(test_dataset, batch_size=batch_size, shuffle=False)\n"
   ]
  },
  {
   "cell_type": "code",
   "execution_count": 9,
   "metadata": {},
   "outputs": [],
   "source": [
    "# Define the MLP model\n",
    "class MLP(nn.Module):\n",
    "    def __init__(self, input_dims, hidden_dims, output_dims):\n",
    "        super().__init__()\n",
    "        self.linear1 = nn.Linear(input_dims, hidden_dims)\n",
    "        self.relu = nn.ReLU()\n",
    "        self.output = nn.Linear(hidden_dims, output_dims)\n",
    "\n",
    "    def forward(self, x):\n",
    "        x = self.linear1(x)\n",
    "        x = self.relu(x)\n",
    "        x = self.output(x)\n",
    "        return x\n",
    "\n",
    "input_dims = X_train.shape[1]\n",
    "hidden_dims = 128\n",
    "output_dims = len(torch.unique(y_train))\n",
    "model = MLP(input_dims, hidden_dims, output_dims).to(device)\n"
   ]
  },
  {
   "cell_type": "code",
   "execution_count": 10,
   "metadata": {},
   "outputs": [],
   "source": [
    "# Define loss and optimizer\n",
    "criterion = nn.CrossEntropyLoss()\n",
    "optimizer = torch.optim.SGD(model.parameters(), lr=0.1)\n"
   ]
  },
  {
   "cell_type": "code",
   "execution_count": 11,
   "metadata": {},
   "outputs": [],
   "source": [
    "# Define accuracy function\n",
    "def compute_accuracy(y_hat, y_true):\n",
    "    _, y_hat = torch.max(y_hat, dim=1)\n",
    "    correct = (y_hat == y_true).sum().item()\n",
    "    accuracy = correct / len(y_true)\n",
    "    return accuracy\n"
   ]
  },
  {
   "cell_type": "code",
   "execution_count": 12,
   "metadata": {},
   "outputs": [
    {
     "name": "stdout",
     "output_type": "stream",
     "text": [
      "Epoch 1/100 | Train Loss: 0.9386 | Val Loss: 0.8641 | Val Accuracy: 0.4833\n",
      "Epoch 2/100 | Train Loss: 0.7497 | Val Loss: 0.8150 | Val Accuracy: 0.3833\n",
      "Epoch 3/100 | Train Loss: 0.7150 | Val Loss: 0.7986 | Val Accuracy: 0.4833\n",
      "Epoch 4/100 | Train Loss: 0.6890 | Val Loss: 0.7907 | Val Accuracy: 0.4500\n",
      "Epoch 5/100 | Train Loss: 0.6696 | Val Loss: 0.7799 | Val Accuracy: 0.5167\n",
      "Epoch 6/100 | Train Loss: 0.6541 | Val Loss: 0.7465 | Val Accuracy: 0.5000\n",
      "Epoch 7/100 | Train Loss: 0.6455 | Val Loss: 0.7235 | Val Accuracy: 0.5333\n",
      "Epoch 8/100 | Train Loss: 0.6158 | Val Loss: 0.7038 | Val Accuracy: 0.5167\n",
      "Epoch 9/100 | Train Loss: 0.6165 | Val Loss: 0.6935 | Val Accuracy: 0.4833\n",
      "Epoch 10/100 | Train Loss: 0.6096 | Val Loss: 0.6663 | Val Accuracy: 0.5667\n",
      "Epoch 11/100 | Train Loss: 0.5769 | Val Loss: 0.6660 | Val Accuracy: 0.6000\n",
      "Epoch 12/100 | Train Loss: 0.5962 | Val Loss: 0.6418 | Val Accuracy: 0.6167\n",
      "Epoch 13/100 | Train Loss: 0.5557 | Val Loss: 0.6249 | Val Accuracy: 0.6333\n",
      "Epoch 14/100 | Train Loss: 0.5373 | Val Loss: 0.6080 | Val Accuracy: 0.6333\n",
      "Epoch 15/100 | Train Loss: 0.5206 | Val Loss: 0.6040 | Val Accuracy: 0.6667\n",
      "Epoch 16/100 | Train Loss: 0.5302 | Val Loss: 0.5873 | Val Accuracy: 0.6667\n",
      "Epoch 17/100 | Train Loss: 0.5113 | Val Loss: 0.5660 | Val Accuracy: 0.6833\n",
      "Epoch 18/100 | Train Loss: 0.4978 | Val Loss: 0.5691 | Val Accuracy: 0.7167\n",
      "Epoch 19/100 | Train Loss: 0.4928 | Val Loss: 0.5398 | Val Accuracy: 0.7333\n",
      "Epoch 20/100 | Train Loss: 0.4804 | Val Loss: 0.5423 | Val Accuracy: 0.7167\n",
      "Epoch 21/100 | Train Loss: 0.4816 | Val Loss: 0.5205 | Val Accuracy: 0.7333\n",
      "Epoch 22/100 | Train Loss: 0.4616 | Val Loss: 0.5008 | Val Accuracy: 0.7333\n",
      "Epoch 23/100 | Train Loss: 0.4426 | Val Loss: 0.4885 | Val Accuracy: 0.7500\n",
      "Epoch 24/100 | Train Loss: 0.4415 | Val Loss: 0.4754 | Val Accuracy: 0.7667\n",
      "Epoch 25/100 | Train Loss: 0.4196 | Val Loss: 0.4728 | Val Accuracy: 0.7500\n",
      "Epoch 26/100 | Train Loss: 0.4204 | Val Loss: 0.4593 | Val Accuracy: 0.7833\n",
      "Epoch 27/100 | Train Loss: 0.4242 | Val Loss: 0.4495 | Val Accuracy: 0.7833\n",
      "Epoch 28/100 | Train Loss: 0.3988 | Val Loss: 0.4375 | Val Accuracy: 0.8000\n",
      "Epoch 29/100 | Train Loss: 0.3866 | Val Loss: 0.4295 | Val Accuracy: 0.8167\n",
      "Epoch 30/100 | Train Loss: 0.3863 | Val Loss: 0.4192 | Val Accuracy: 0.8167\n",
      "Epoch 31/100 | Train Loss: 0.3804 | Val Loss: 0.4111 | Val Accuracy: 0.8333\n",
      "Epoch 32/100 | Train Loss: 0.3686 | Val Loss: 0.4026 | Val Accuracy: 0.8167\n",
      "Epoch 33/100 | Train Loss: 0.3594 | Val Loss: 0.3974 | Val Accuracy: 0.8333\n",
      "Epoch 34/100 | Train Loss: 0.3511 | Val Loss: 0.3891 | Val Accuracy: 0.8333\n",
      "Epoch 35/100 | Train Loss: 0.3536 | Val Loss: 0.3817 | Val Accuracy: 0.8500\n",
      "Epoch 36/100 | Train Loss: 0.3439 | Val Loss: 0.3743 | Val Accuracy: 0.8333\n",
      "Epoch 37/100 | Train Loss: 0.3351 | Val Loss: 0.3744 | Val Accuracy: 0.8500\n",
      "Epoch 38/100 | Train Loss: 0.3364 | Val Loss: 0.3646 | Val Accuracy: 0.8333\n",
      "Epoch 39/100 | Train Loss: 0.3356 | Val Loss: 0.3535 | Val Accuracy: 0.8500\n",
      "Epoch 40/100 | Train Loss: 0.3174 | Val Loss: 0.3455 | Val Accuracy: 0.8667\n",
      "Epoch 41/100 | Train Loss: 0.3140 | Val Loss: 0.3400 | Val Accuracy: 0.8667\n",
      "Epoch 42/100 | Train Loss: 0.3072 | Val Loss: 0.3413 | Val Accuracy: 0.8500\n",
      "Epoch 43/100 | Train Loss: 0.3093 | Val Loss: 0.3361 | Val Accuracy: 0.8500\n",
      "Epoch 44/100 | Train Loss: 0.2900 | Val Loss: 0.3274 | Val Accuracy: 0.8500\n",
      "Epoch 45/100 | Train Loss: 0.2883 | Val Loss: 0.3266 | Val Accuracy: 0.8500\n",
      "Epoch 46/100 | Train Loss: 0.2864 | Val Loss: 0.3180 | Val Accuracy: 0.8667\n",
      "Epoch 47/100 | Train Loss: 0.2901 | Val Loss: 0.3097 | Val Accuracy: 0.9000\n",
      "Epoch 48/100 | Train Loss: 0.2848 | Val Loss: 0.3054 | Val Accuracy: 0.8833\n",
      "Epoch 49/100 | Train Loss: 0.2682 | Val Loss: 0.3021 | Val Accuracy: 0.8833\n",
      "Epoch 50/100 | Train Loss: 0.2744 | Val Loss: 0.2990 | Val Accuracy: 0.9333\n",
      "Epoch 51/100 | Train Loss: 0.2703 | Val Loss: 0.2932 | Val Accuracy: 0.8833\n",
      "Epoch 52/100 | Train Loss: 0.2671 | Val Loss: 0.2882 | Val Accuracy: 0.8833\n",
      "Epoch 53/100 | Train Loss: 0.2551 | Val Loss: 0.2898 | Val Accuracy: 0.8667\n",
      "Epoch 54/100 | Train Loss: 0.2617 | Val Loss: 0.2844 | Val Accuracy: 0.9000\n",
      "Epoch 55/100 | Train Loss: 0.2446 | Val Loss: 0.2842 | Val Accuracy: 0.8667\n",
      "Epoch 56/100 | Train Loss: 0.2467 | Val Loss: 0.2774 | Val Accuracy: 0.8667\n",
      "Epoch 57/100 | Train Loss: 0.2485 | Val Loss: 0.2713 | Val Accuracy: 0.9000\n",
      "Epoch 58/100 | Train Loss: 0.2395 | Val Loss: 0.2690 | Val Accuracy: 0.8667\n",
      "Epoch 59/100 | Train Loss: 0.2400 | Val Loss: 0.2634 | Val Accuracy: 0.9000\n",
      "Epoch 60/100 | Train Loss: 0.2411 | Val Loss: 0.2612 | Val Accuracy: 0.8833\n",
      "Epoch 61/100 | Train Loss: 0.2373 | Val Loss: 0.2695 | Val Accuracy: 0.8833\n",
      "Epoch 62/100 | Train Loss: 0.2296 | Val Loss: 0.2618 | Val Accuracy: 0.9000\n",
      "Epoch 63/100 | Train Loss: 0.2331 | Val Loss: 0.2601 | Val Accuracy: 0.8833\n",
      "Epoch 64/100 | Train Loss: 0.2260 | Val Loss: 0.2532 | Val Accuracy: 0.8833\n",
      "Epoch 65/100 | Train Loss: 0.2308 | Val Loss: 0.2495 | Val Accuracy: 0.8833\n",
      "Epoch 66/100 | Train Loss: 0.2215 | Val Loss: 0.2461 | Val Accuracy: 0.9000\n",
      "Epoch 67/100 | Train Loss: 0.2202 | Val Loss: 0.2461 | Val Accuracy: 0.8833\n",
      "Epoch 68/100 | Train Loss: 0.2156 | Val Loss: 0.2425 | Val Accuracy: 0.9000\n",
      "Epoch 69/100 | Train Loss: 0.2155 | Val Loss: 0.2392 | Val Accuracy: 0.8833\n",
      "Epoch 70/100 | Train Loss: 0.2128 | Val Loss: 0.2429 | Val Accuracy: 0.9000\n",
      "Epoch 71/100 | Train Loss: 0.2095 | Val Loss: 0.2392 | Val Accuracy: 0.9000\n",
      "Epoch 72/100 | Train Loss: 0.2029 | Val Loss: 0.2394 | Val Accuracy: 0.9000\n",
      "Epoch 73/100 | Train Loss: 0.2026 | Val Loss: 0.2364 | Val Accuracy: 0.9000\n",
      "Epoch 74/100 | Train Loss: 0.2099 | Val Loss: 0.2373 | Val Accuracy: 0.8833\n",
      "Epoch 75/100 | Train Loss: 0.2043 | Val Loss: 0.2317 | Val Accuracy: 0.9167\n",
      "Epoch 76/100 | Train Loss: 0.1996 | Val Loss: 0.2273 | Val Accuracy: 0.9000\n",
      "Epoch 77/100 | Train Loss: 0.1997 | Val Loss: 0.2264 | Val Accuracy: 0.9000\n",
      "Epoch 78/100 | Train Loss: 0.1948 | Val Loss: 0.2270 | Val Accuracy: 0.9000\n",
      "Epoch 79/100 | Train Loss: 0.1857 | Val Loss: 0.2221 | Val Accuracy: 0.9167\n",
      "Epoch 80/100 | Train Loss: 0.1856 | Val Loss: 0.2201 | Val Accuracy: 0.9000\n",
      "Epoch 81/100 | Train Loss: 0.1944 | Val Loss: 0.2135 | Val Accuracy: 0.9000\n",
      "Epoch 82/100 | Train Loss: 0.1889 | Val Loss: 0.2138 | Val Accuracy: 0.9000\n",
      "Epoch 83/100 | Train Loss: 0.1832 | Val Loss: 0.2122 | Val Accuracy: 0.9167\n",
      "Epoch 84/100 | Train Loss: 0.1881 | Val Loss: 0.2122 | Val Accuracy: 0.9167\n",
      "Epoch 85/100 | Train Loss: 0.1810 | Val Loss: 0.2098 | Val Accuracy: 0.9167\n",
      "Epoch 86/100 | Train Loss: 0.1797 | Val Loss: 0.2109 | Val Accuracy: 0.9000\n",
      "Epoch 87/100 | Train Loss: 0.1781 | Val Loss: 0.2156 | Val Accuracy: 0.9000\n",
      "Epoch 88/100 | Train Loss: 0.1813 | Val Loss: 0.2062 | Val Accuracy: 0.9333\n",
      "Epoch 89/100 | Train Loss: 0.1782 | Val Loss: 0.2025 | Val Accuracy: 0.9000\n",
      "Epoch 90/100 | Train Loss: 0.1711 | Val Loss: 0.2007 | Val Accuracy: 0.9167\n",
      "Epoch 91/100 | Train Loss: 0.1804 | Val Loss: 0.2132 | Val Accuracy: 0.9000\n",
      "Epoch 92/100 | Train Loss: 0.1722 | Val Loss: 0.2013 | Val Accuracy: 0.9167\n",
      "Epoch 93/100 | Train Loss: 0.1660 | Val Loss: 0.1946 | Val Accuracy: 0.9167\n",
      "Epoch 94/100 | Train Loss: 0.1735 | Val Loss: 0.1955 | Val Accuracy: 0.9167\n",
      "Epoch 95/100 | Train Loss: 0.1692 | Val Loss: 0.1938 | Val Accuracy: 0.9000\n",
      "Epoch 96/100 | Train Loss: 0.1645 | Val Loss: 0.1932 | Val Accuracy: 0.9333\n",
      "Epoch 97/100 | Train Loss: 0.1628 | Val Loss: 0.1915 | Val Accuracy: 0.9333\n",
      "Epoch 98/100 | Train Loss: 0.1613 | Val Loss: 0.1928 | Val Accuracy: 0.9333\n",
      "Epoch 99/100 | Train Loss: 0.1622 | Val Loss: 0.1879 | Val Accuracy: 0.9167\n",
      "Epoch 100/100 | Train Loss: 0.1616 | Val Loss: 0.1898 | Val Accuracy: 0.9333\n"
     ]
    }
   ],
   "source": [
    "# Train the model\n",
    "epochs = 100\n",
    "train_losses, val_losses, train_accs, val_accs = [], [], [], []\n",
    "\n",
    "for epoch in range(epochs):\n",
    "    model.train()\n",
    "    train_loss, train_target, train_predict = 0.0, [], []\n",
    "    for X_samples, y_samples in train_loader:\n",
    "        X_samples, y_samples = X_samples.to(device), y_samples.to(device)\n",
    "        optimizer.zero_grad()\n",
    "        outputs = model(X_samples)\n",
    "        loss = criterion(outputs, y_samples)\n",
    "        loss.backward()\n",
    "        optimizer.step()\n",
    "        train_loss += loss.item()\n",
    "        train_target.append(y_samples.cpu())\n",
    "        train_predict.append(outputs.cpu())\n",
    "    train_loss /= len(train_loader)\n",
    "    train_losses.append(train_loss)\n",
    "    train_target = torch.cat(train_target)\n",
    "    train_predict = torch.cat(train_predict)\n",
    "    train_accs.append(compute_accuracy(train_predict, train_target))\n",
    "    \n",
    "    model.eval()\n",
    "    val_loss, val_target, val_predict = 0.0, [], []\n",
    "    with torch.no_grad():\n",
    "        for X_samples, y_samples in val_loader:\n",
    "            X_samples, y_samples = X_samples.to(device), y_samples.to(device)\n",
    "            outputs = model(X_samples)\n",
    "            val_loss += criterion(outputs, y_samples).item()\n",
    "            val_target.append(y_samples.cpu())\n",
    "            val_predict.append(outputs.cpu())\n",
    "    val_loss /= len(val_loader)\n",
    "    val_losses.append(val_loss)\n",
    "    val_target = torch.cat(val_target)\n",
    "    val_predict = torch.cat(val_predict)\n",
    "    val_accs.append(compute_accuracy(val_predict, val_target))\n",
    "\n",
    "    print(f'Epoch {epoch+1}/{epochs} | Train Loss: {train_loss:.4f} | Val Loss: {val_loss:.4f} | Val Accuracy: {val_accs[-1]:.4f}')\n"
   ]
  },
  {
   "cell_type": "code",
   "execution_count": 13,
   "metadata": {},
   "outputs": [
    {
     "name": "stdout",
     "output_type": "stream",
     "text": [
      "Test Accuracy: 0.9333\n"
     ]
    }
   ],
   "source": [
    "# Evaluate the model on test data\n",
    "model.eval()\n",
    "with torch.no_grad():\n",
    "    test_target, test_predict = [], []\n",
    "    for X_samples, y_samples in test_loader:\n",
    "        X_samples, y_samples = X_samples.to(device), y_samples.to(device)\n",
    "        outputs = model(X_samples)\n",
    "        test_target.append(y_samples.cpu())\n",
    "        test_predict.append(outputs.cpu())\n",
    "    test_target = torch.cat(test_target)\n",
    "    test_predict = torch.cat(test_predict)\n",
    "    test_accuracy = compute_accuracy(test_predict, test_target)\n",
    "    print(f'Test Accuracy: {test_accuracy:.4f}')\n"
   ]
  },
  {
   "cell_type": "code",
   "execution_count": null,
   "metadata": {},
   "outputs": [],
   "source": []
  }
 ],
 "metadata": {
  "kernelspec": {
   "display_name": "base",
   "language": "python",
   "name": "python3"
  },
  "language_info": {
   "codemirror_mode": {
    "name": "ipython",
    "version": 3
   },
   "file_extension": ".py",
   "mimetype": "text/x-python",
   "name": "python",
   "nbconvert_exporter": "python",
   "pygments_lexer": "ipython3",
   "version": "3.11.7"
  }
 },
 "nbformat": 4,
 "nbformat_minor": 2
}
