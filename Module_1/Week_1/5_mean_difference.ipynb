{
 "cells": [
  {
   "cell_type": "code",
   "execution_count": 1,
   "metadata": {},
   "outputs": [
    {
     "name": "stdout",
     "output_type": "stream",
     "text": [
      "md_nre_single_sample(y=100, y_hat=99.5, n=2, p=1) = 0.025031328369998107\n",
      "md_nre_single_sample(y=50, y_hat=49.5, n=2, p=1) = 0.03544417213033135\n",
      "md_nre_single_sample(y=20, y_hat=19.5, n=2, p=1) = 0.05625552183565574\n",
      "md_nre_single_sample(y=0.6, y_hat=0.1, n=2, p=1) = 0.45836890322464546\n"
     ]
    }
   ],
   "source": [
    "def md_nre_single_sample(y, y_hat, n, p):\n",
    "    if n <= 0 or p <= 0:\n",
    "        print(\"n and p must be positive integers\")\n",
    "        return\n",
    "    \n",
    "    # Calculate the MD_nRE\n",
    "    term1 = abs(y) ** (1/n)\n",
    "    term2 = abs(y_hat) ** (1/n)\n",
    "    md_nre = abs(term1 - term2) ** p\n",
    "    \n",
    "    return md_nre\n",
    "\n",
    "# Example usage\n",
    "print(f\"md_nre_single_sample(y=100, y_hat=99.5, n=2, p=1) = {md_nre_single_sample(100, 99.5, 2, 1)}\")\n",
    "print(f\"md_nre_single_sample(y=50, y_hat=49.5, n=2, p=1) = {md_nre_single_sample(50, 49.5, 2, 1)}\")\n",
    "print(f\"md_nre_single_sample(y=20, y_hat=19.5, n=2, p=1) = {md_nre_single_sample(20, 19.5, 2, 1)}\")\n",
    "print(f\"md_nre_single_sample(y=0.6, y_hat=0.1, n=2, p=1) = {md_nre_single_sample(0.6, 0.1, 2, 1)}\")\n"
   ]
  },
  {
   "cell_type": "code",
   "execution_count": null,
   "metadata": {},
   "outputs": [],
   "source": []
  }
 ],
 "metadata": {
  "kernelspec": {
   "display_name": "Python 3",
   "language": "python",
   "name": "python3"
  },
  "language_info": {
   "codemirror_mode": {
    "name": "ipython",
    "version": 3
   },
   "file_extension": ".py",
   "mimetype": "text/x-python",
   "name": "python",
   "nbconvert_exporter": "python",
   "pygments_lexer": "ipython3",
   "version": "3.11.4"
  }
 },
 "nbformat": 4,
 "nbformat_minor": 2
}
