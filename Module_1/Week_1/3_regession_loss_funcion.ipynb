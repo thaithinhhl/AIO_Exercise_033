{
 "cells": [
  {
   "cell_type": "code",
   "execution_count": 1,
   "metadata": {},
   "outputs": [
    {
     "name": "stdout",
     "output_type": "stream",
     "text": [
      "loss name: RMSE, sample: 0, pred: 2.7342173082380516, target: 3.7472851326093, loss: 1.0130678243712485\n",
      "loss name: RMSE, sample: 1, pred: 1.6082463951058623, target: 9.744000666736094, loss: 8.135754271630232\n",
      "loss name: RMSE, sample: 2, pred: 4.670372807172222, target: 2.9688238485915273, loss: 1.7015489585806947\n",
      "loss name: RMSE, sample: 3, pred: 0.14235220992852016, target: 9.994980337262692, loss: 9.852628127334173\n",
      "loss name: RMSE, sample: 4, pred: 6.181076533046449, target: 4.471284604374416, loss: 1.7097919286720327\n",
      "final RMSE: 5.832833656096518\n",
      "number of samples must be an integer number\n"
     ]
    }
   ],
   "source": [
    "import random\n",
    "import math\n",
    "\n",
    "def calculate_loss(num_samples, loss_name):\n",
    "    # Check if num_samples is a valid integer number\n",
    "    if not num_samples.isnumeric():\n",
    "        print(\"number of samples must be an integer number\")\n",
    "        return\n",
    "    \n",
    "    num_samples = int(num_samples)\n",
    "\n",
    "    # Validate the loss name\n",
    "    if loss_name not in ['MAE', 'MSE', 'RMSE']:\n",
    "        print(f\"{loss_name} is not supported\")\n",
    "        return\n",
    "    \n",
    "    samples = []\n",
    "    for i in range(num_samples):\n",
    "        predict = random.uniform(0, 10)\n",
    "        target = random.uniform(0, 10)\n",
    "        samples.append((predict, target))\n",
    "    \n",
    "    if loss_name == 'MAE':\n",
    "        loss = sum(abs(p - t) for p, t in samples) / num_samples\n",
    "    elif loss_name == 'MSE':\n",
    "        loss = sum((p - t) ** 2 for p, t in samples) / num_samples\n",
    "    elif loss_name == 'RMSE':\n",
    "        mse = sum((p - t) ** 2 for p, t in samples) / num_samples\n",
    "        loss = math.sqrt(mse)\n",
    "\n",
    "    # Print the results\n",
    "    for i, (predict, target) in enumerate(samples):\n",
    "        print(f\"loss name: {loss_name}, sample: {i}, pred: {predict}, target: {target}, loss: {abs(predict - target)}\")\n",
    "    \n",
    "    print(f\"final {loss_name}: {loss}\")\n",
    "\n",
    "# Example usage\n",
    "calculate_loss(\"5\", \"RMSE\")\n",
    "calculate_loss(\"aa\", \"RMSE\")\n"
   ]
  },
  {
   "cell_type": "code",
   "execution_count": null,
   "metadata": {},
   "outputs": [],
   "source": []
  }
 ],
 "metadata": {
  "kernelspec": {
   "display_name": "Python 3",
   "language": "python",
   "name": "python3"
  },
  "language_info": {
   "codemirror_mode": {
    "name": "ipython",
    "version": 3
   },
   "file_extension": ".py",
   "mimetype": "text/x-python",
   "name": "python",
   "nbconvert_exporter": "python",
   "pygments_lexer": "ipython3",
   "version": "3.11.4"
  }
 },
 "nbformat": 4,
 "nbformat_minor": 2
}
