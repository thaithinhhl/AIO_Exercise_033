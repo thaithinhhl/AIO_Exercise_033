{
 "cells": [
  {
   "cell_type": "code",
   "execution_count": null,
   "metadata": {},
   "outputs": [],
   "source": [
    "def exercise1(tp, fp, fn):\n",
    "    # Check if inputs are integers\n",
    "    if not isinstance(tp, int):\n",
    "        print(\"tp must be inta\")\n",
    "        return\n",
    "    if not isinstance(fp, int):\n",
    "        print(\"fp must be int\")\n",
    "        return\n",
    "    if not isinstance(fn, int):\n",
    "        print(\"fn must be int\")\n",
    "        return\n",
    "\n",
    "    # Check if inputs are greater than zero\n",
    "    if tp <= 0 or fp <= 0 or fn <= 0:\n",
    "        print(\"tp and fp and fn must be greater than zero\")\n",
    "        return\n",
    "\n",
    "    # Calculate precision, recall, and F1-score\n",
    "    precision = tp / (tp + fp)\n",
    "    recall = tp / (tp + fn)\n",
    "    f1_score = 2 * (precision * recall) / (precision + recall)\n",
    "\n",
    "    # Print the results\n",
    "    print(f\"precision is {precision:.10f}\")\n",
    "    print(f\"recall is {recall:.10f}\")\n",
    "    print(f\"f1-score is {f1_score:.10f}\")\n",
    "\n",
    "# Example usage\n",
    "exercise1(2, 3, 4)\n",
    "exercise1('a', 3, 4)\n",
    "exercise1(2, 'a', 4)\n",
    "exercise1(2, 3, 'a')\n",
    "exercise1(2, 3, 0)\n",
    "exercise1(2.1, 3, 4)\n"
   ]
  }
 ],
 "metadata": {
  "kernelspec": {
   "display_name": "Python 3",
   "language": "python",
   "name": "python3"
  },
  "language_info": {
   "name": "python",
   "version": "3.11.4"
  }
 },
 "nbformat": 4,
 "nbformat_minor": 2
}
