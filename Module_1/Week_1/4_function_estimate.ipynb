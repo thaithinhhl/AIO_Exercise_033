{
 "cells": [
  {
   "cell_type": "code",
   "execution_count": 1,
   "metadata": {},
   "outputs": [
    {
     "name": "stdout",
     "output_type": "stream",
     "text": [
      "approx_sin(x=3.14, n=10) = 0.001592652393160744\n",
      "approx_cos(x=3.14, n=10) = -0.9999987352210833\n",
      "approx_sinh(x=3.14, n=10) = 11.530292029865986\n",
      "approx_cosh(x=3.14, n=10) = 11.573574824666185\n"
     ]
    }
   ],
   "source": [
    "import math\n",
    "\n",
    "def factorial(n):\n",
    "    if n == 0 or n == 1:\n",
    "        return 1\n",
    "    else:\n",
    "        return n * factorial(n - 1)\n",
    "\n",
    "def approx_sin(x, n):\n",
    "    result = 0\n",
    "    for i in range(n):\n",
    "        result += ((-1)**i * x**(2*i + 1)) / factorial(2*i + 1)\n",
    "    return result\n",
    "\n",
    "def approx_cos(x, n):\n",
    "    result = 0\n",
    "    for i in range(n):\n",
    "        result += ((-1)**i * x**(2*i)) / factorial(2*i)\n",
    "    return result\n",
    "\n",
    "def approx_sinh(x, n):\n",
    "    result = 0\n",
    "    for i in range(n):\n",
    "        result += (x**(2*i + 1)) / factorial(2*i + 1)\n",
    "    return result\n",
    "\n",
    "def approx_cosh(x, n):\n",
    "    result = 0\n",
    "    for i in range(n):\n",
    "        result += (x**(2*i)) / factorial(2*i)\n",
    "    return result\n",
    "\n",
    "# Example usage\n",
    "print(f\"approx_sin(x=3.14, n=10) = {approx_sin(3.14, 10)}\")\n",
    "print(f\"approx_cos(x=3.14, n=10) = {approx_cos(3.14, 10)}\")\n",
    "print(f\"approx_sinh(x=3.14, n=10) = {approx_sinh(3.14, 10)}\")\n",
    "print(f\"approx_cosh(x=3.14, n=10) = {approx_cosh(3.14, 10)}\")\n"
   ]
  },
  {
   "cell_type": "code",
   "execution_count": null,
   "metadata": {},
   "outputs": [],
   "source": []
  }
 ],
 "metadata": {
  "kernelspec": {
   "display_name": "Python 3",
   "language": "python",
   "name": "python3"
  },
  "language_info": {
   "codemirror_mode": {
    "name": "ipython",
    "version": 3
   },
   "file_extension": ".py",
   "mimetype": "text/x-python",
   "name": "python",
   "nbconvert_exporter": "python",
   "pygments_lexer": "ipython3",
   "version": "3.11.4"
  }
 },
 "nbformat": 4,
 "nbformat_minor": 2
}
