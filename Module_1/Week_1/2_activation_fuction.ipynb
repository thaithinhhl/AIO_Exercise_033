{
 "cells": [
  {
   "cell_type": "code",
   "execution_count": 1,
   "metadata": {},
   "outputs": [
    {
     "name": "stdout",
     "output_type": "stream",
     "text": [
      "sigmoid: f(1.5) = 0.8175744761936437\n",
      "x must be a number\n",
      "belu is not supported\n"
     ]
    }
   ],
   "source": [
    "import math\n",
    "\n",
    "def is_number(n):\n",
    "    try:\n",
    "        float(n)\n",
    "        return True\n",
    "    except ValueError:\n",
    "        return False\n",
    "\n",
    "def activation_function(x, function_name):\n",
    "    # Check if x is a number\n",
    "    if not is_number(x):\n",
    "        print(\"x must be a number\")\n",
    "        return\n",
    "    \n",
    "    # Convert x to float\n",
    "    x = float(x)\n",
    "\n",
    "    # Validate the activation function name\n",
    "    if function_name not in ['sigmoid', 'relu', 'elu']:\n",
    "        print(f\"{function_name} is not supported\")\n",
    "        return\n",
    "\n",
    "    # Compute the activation function\n",
    "    if function_name == 'sigmoid':\n",
    "        result = 1 / (1 + math.exp(-x))\n",
    "    elif function_name == 'relu':\n",
    "        result = max(0, x)\n",
    "    elif function_name == 'elu':\n",
    "        alpha = 0.01\n",
    "        result = x if x > 0 else alpha * (math.exp(x) - 1)\n",
    "\n",
    "    # Print the result\n",
    "    print(f\"{function_name}: f({x}) = {result}\")\n",
    "\n",
    "# Example usage\n",
    "activation_function(1.5, 'sigmoid')\n",
    "activation_function('thinh', 'relu')\n",
    "activation_function(100, 'belu')\n"
   ]
  },
  {
   "cell_type": "code",
   "execution_count": null,
   "metadata": {},
   "outputs": [],
   "source": []
  }
 ],
 "metadata": {
  "kernelspec": {
   "display_name": "Python 3",
   "language": "python",
   "name": "python3"
  },
  "language_info": {
   "codemirror_mode": {
    "name": "ipython",
    "version": 3
   },
   "file_extension": ".py",
   "mimetype": "text/x-python",
   "name": "python",
   "nbconvert_exporter": "python",
   "pygments_lexer": "ipython3",
   "version": "3.11.4"
  }
 },
 "nbformat": 4,
 "nbformat_minor": 2
}
